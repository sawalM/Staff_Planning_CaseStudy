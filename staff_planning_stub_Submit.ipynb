{
 "cells": [
  {
   "cell_type": "code",
   "execution_count": 1,
   "metadata": {
    "collapsed": true,
    "executionInfo": {
     "elapsed": 30,
     "status": "ok",
     "timestamp": 1623690961647,
     "user": {
      "displayName": "Sawal Malhotra",
      "photoUrl": "",
      "userId": "07925511662157739222"
     },
     "user_tz": -330
    },
    "id": "4y5chFg7_PLL"
   },
   "outputs": [
    {
     "ename": "ModuleNotFoundError",
     "evalue": "No module named 'pyomo'",
     "output_type": "error",
     "traceback": [
      "\u001b[1;31m---------------------------------------------------------------------------\u001b[0m",
      "\u001b[1;31mModuleNotFoundError\u001b[0m                       Traceback (most recent call last)",
      "\u001b[1;32m<ipython-input-1-533355923373>\u001b[0m in \u001b[0;36m<module>\u001b[1;34m\u001b[0m\n\u001b[0;32m      3\u001b[0m \u001b[1;32mimport\u001b[0m \u001b[0mnumpy\u001b[0m \u001b[1;32mas\u001b[0m \u001b[0mnp\u001b[0m\u001b[1;33m\u001b[0m\u001b[1;33m\u001b[0m\u001b[0m\n\u001b[0;32m      4\u001b[0m \u001b[1;32mimport\u001b[0m \u001b[0mmath\u001b[0m\u001b[1;33m\u001b[0m\u001b[1;33m\u001b[0m\u001b[0m\n\u001b[1;32m----> 5\u001b[1;33m \u001b[1;32mfrom\u001b[0m \u001b[0mpyomo\u001b[0m\u001b[1;33m.\u001b[0m\u001b[0menviron\u001b[0m \u001b[1;32mimport\u001b[0m \u001b[1;33m*\u001b[0m\u001b[1;33m\u001b[0m\u001b[1;33m\u001b[0m\u001b[0m\n\u001b[0m",
      "\u001b[1;31mModuleNotFoundError\u001b[0m: No module named 'pyomo'"
     ]
    }
   ],
   "source": [
    "# Importing Libraries \n",
    "import pandas as pd\n",
    "import numpy as np\n",
    "import math\n",
    "from pyomo.environ import *"
   ]
  },
  {
   "cell_type": "code",
   "execution_count": 3,
   "metadata": {
    "collapsed": true,
    "executionInfo": {
     "elapsed": 29,
     "status": "ok",
     "timestamp": 1623690961647,
     "user": {
      "displayName": "Sawal Malhotra",
      "photoUrl": "",
      "userId": "07925511662157739222"
     },
     "user_tz": -330
    },
    "id": "nPAtKpvC_CFV"
   },
   "outputs": [
    {
     "ename": "ModuleNotFoundError",
     "evalue": "No module named 'pyomo'",
     "output_type": "error",
     "traceback": [
      "\u001b[1;31m---------------------------------------------------------------------------\u001b[0m",
      "\u001b[1;31mModuleNotFoundError\u001b[0m                       Traceback (most recent call last)",
      "\u001b[1;32m<ipython-input-3-486c2b32ba21>\u001b[0m in \u001b[0;36m<module>\u001b[1;34m\u001b[0m\n\u001b[0;32m      1\u001b[0m \u001b[1;31m# Importing pyomo Libraries\u001b[0m\u001b[1;33m\u001b[0m\u001b[1;33m\u001b[0m\u001b[1;33m\u001b[0m\u001b[0m\n\u001b[0;32m      2\u001b[0m \u001b[1;32mfrom\u001b[0m \u001b[0m__future__\u001b[0m \u001b[1;32mimport\u001b[0m \u001b[0mdivision\u001b[0m\u001b[1;33m\u001b[0m\u001b[1;33m\u001b[0m\u001b[0m\n\u001b[1;32m----> 3\u001b[1;33m \u001b[1;32mfrom\u001b[0m \u001b[0mpyomo\u001b[0m\u001b[1;33m.\u001b[0m\u001b[0mopt\u001b[0m \u001b[1;32mimport\u001b[0m \u001b[0mSolverFactory\u001b[0m\u001b[1;33m\u001b[0m\u001b[1;33m\u001b[0m\u001b[0m\n\u001b[0m",
      "\u001b[1;31mModuleNotFoundError\u001b[0m: No module named 'pyomo'"
     ]
    }
   ],
   "source": [
    "# Importing pyomo Libraries\n",
    "from __future__ import division\n",
    "from pyomo.opt import SolverFactory"
   ]
  },
  {
   "cell_type": "code",
   "execution_count": 3,
   "metadata": {
    "executionInfo": {
     "elapsed": 26,
     "status": "ok",
     "timestamp": 1623690961648,
     "user": {
      "displayName": "Sawal Malhotra",
      "photoUrl": "",
      "userId": "07925511662157739222"
     },
     "user_tz": -330
    },
    "id": "gfVUdhuN_x1G"
   },
   "outputs": [],
   "source": [
    "# Reading the data from Excel workbook\n",
    "MgDemandDist=pd.read_excel(\"Staffing+Data.xlsx\", sheet_name='DemandData')\n",
    "StaffAv=pd.read_excel(\"Staffing+Data.xlsx\",sheet_name='StaffAvailability')\n",
    "Cost=pd.read_excel(\"Staffing+Data.xlsx\",sheet_name='Cost')\n",
    "transCost=pd.read_excel(\"Staffing+Data.xlsx\",sheet_name='ServiceRate')"
   ]
  },
  {
   "cell_type": "code",
   "execution_count": 4,
   "metadata": {
    "collapsed": true
   },
   "outputs": [
    {
     "data": {
      "text/html": [
       "<div>\n",
       "<style scoped>\n",
       "    .dataframe tbody tr th:only-of-type {\n",
       "        vertical-align: middle;\n",
       "    }\n",
       "\n",
       "    .dataframe tbody tr th {\n",
       "        vertical-align: top;\n",
       "    }\n",
       "\n",
       "    .dataframe thead th {\n",
       "        text-align: right;\n",
       "    }\n",
       "</style>\n",
       "<table border=\"1\" class=\"dataframe\">\n",
       "  <thead>\n",
       "    <tr style=\"text-align: right;\">\n",
       "      <th></th>\n",
       "      <th>State</th>\n",
       "      <th>Month</th>\n",
       "      <th>Demand</th>\n",
       "    </tr>\n",
       "  </thead>\n",
       "  <tbody>\n",
       "    <tr>\n",
       "      <th>0</th>\n",
       "      <td>A</td>\n",
       "      <td>Jan</td>\n",
       "      <td>5240</td>\n",
       "    </tr>\n",
       "    <tr>\n",
       "      <th>1</th>\n",
       "      <td>A</td>\n",
       "      <td>Feb</td>\n",
       "      <td>4878</td>\n",
       "    </tr>\n",
       "    <tr>\n",
       "      <th>2</th>\n",
       "      <td>A</td>\n",
       "      <td>Mar</td>\n",
       "      <td>5942</td>\n",
       "    </tr>\n",
       "    <tr>\n",
       "      <th>3</th>\n",
       "      <td>A</td>\n",
       "      <td>Apr</td>\n",
       "      <td>2297</td>\n",
       "    </tr>\n",
       "    <tr>\n",
       "      <th>4</th>\n",
       "      <td>A</td>\n",
       "      <td>May</td>\n",
       "      <td>1992</td>\n",
       "    </tr>\n",
       "  </tbody>\n",
       "</table>\n",
       "</div>"
      ],
      "text/plain": [
       "  State Month  Demand\n",
       "0     A   Jan    5240\n",
       "1     A   Feb    4878\n",
       "2     A   Mar    5942\n",
       "3     A   Apr    2297\n",
       "4     A   May    1992"
      ]
     },
     "execution_count": 4,
     "metadata": {},
     "output_type": "execute_result"
    }
   ],
   "source": [
    "#To display Demand data set\n",
    "MgDemandDist.head()"
   ]
  },
  {
   "cell_type": "code",
   "execution_count": 12,
   "metadata": {
    "collapsed": true
   },
   "outputs": [
    {
     "data": {
      "text/html": [
       "<div>\n",
       "<style scoped>\n",
       "    .dataframe tbody tr th:only-of-type {\n",
       "        vertical-align: middle;\n",
       "    }\n",
       "\n",
       "    .dataframe tbody tr th {\n",
       "        vertical-align: top;\n",
       "    }\n",
       "\n",
       "    .dataframe thead th {\n",
       "        text-align: right;\n",
       "    }\n",
       "</style>\n",
       "<table border=\"1\" class=\"dataframe\">\n",
       "  <thead>\n",
       "    <tr style=\"text-align: right;\">\n",
       "      <th></th>\n",
       "      <th>State</th>\n",
       "      <th>Month</th>\n",
       "      <th>LB</th>\n",
       "      <th>UB</th>\n",
       "      <th>StaffAvPer</th>\n",
       "    </tr>\n",
       "  </thead>\n",
       "  <tbody>\n",
       "    <tr>\n",
       "      <th>0</th>\n",
       "      <td>A</td>\n",
       "      <td>Jan</td>\n",
       "      <td>0.70</td>\n",
       "      <td>0.90</td>\n",
       "      <td>0.81</td>\n",
       "    </tr>\n",
       "    <tr>\n",
       "      <th>1</th>\n",
       "      <td>A</td>\n",
       "      <td>Feb</td>\n",
       "      <td>0.65</td>\n",
       "      <td>0.85</td>\n",
       "      <td>0.76</td>\n",
       "    </tr>\n",
       "    <tr>\n",
       "      <th>2</th>\n",
       "      <td>A</td>\n",
       "      <td>Mar</td>\n",
       "      <td>0.70</td>\n",
       "      <td>0.80</td>\n",
       "      <td>0.75</td>\n",
       "    </tr>\n",
       "    <tr>\n",
       "      <th>3</th>\n",
       "      <td>A</td>\n",
       "      <td>Apr</td>\n",
       "      <td>0.75</td>\n",
       "      <td>0.85</td>\n",
       "      <td>0.80</td>\n",
       "    </tr>\n",
       "    <tr>\n",
       "      <th>4</th>\n",
       "      <td>A</td>\n",
       "      <td>May</td>\n",
       "      <td>0.70</td>\n",
       "      <td>0.85</td>\n",
       "      <td>0.78</td>\n",
       "    </tr>\n",
       "  </tbody>\n",
       "</table>\n",
       "</div>"
      ],
      "text/plain": [
       "  State Month    LB    UB  StaffAvPer\n",
       "0     A   Jan  0.70  0.90        0.81\n",
       "1     A   Feb  0.65  0.85        0.76\n",
       "2     A   Mar  0.70  0.80        0.75\n",
       "3     A   Apr  0.75  0.85        0.80\n",
       "4     A   May  0.70  0.85        0.78"
      ]
     },
     "execution_count": 12,
     "metadata": {},
     "output_type": "execute_result"
    }
   ],
   "source": [
    "#To display Staff average data set\n",
    "StaffAv.head()"
   ]
  },
  {
   "cell_type": "code",
   "execution_count": 13,
   "metadata": {
    "collapsed": true
   },
   "outputs": [
    {
     "data": {
      "text/html": [
       "<div>\n",
       "<style scoped>\n",
       "    .dataframe tbody tr th:only-of-type {\n",
       "        vertical-align: middle;\n",
       "    }\n",
       "\n",
       "    .dataframe tbody tr th {\n",
       "        vertical-align: top;\n",
       "    }\n",
       "\n",
       "    .dataframe thead th {\n",
       "        text-align: right;\n",
       "    }\n",
       "</style>\n",
       "<table border=\"1\" class=\"dataframe\">\n",
       "  <thead>\n",
       "    <tr style=\"text-align: right;\">\n",
       "      <th></th>\n",
       "      <th>State</th>\n",
       "      <th>Month</th>\n",
       "      <th>AnnualSalary</th>\n",
       "      <th>MonthlySalary</th>\n",
       "      <th>UnitOutSourceCost</th>\n",
       "    </tr>\n",
       "  </thead>\n",
       "  <tbody>\n",
       "    <tr>\n",
       "      <th>0</th>\n",
       "      <td>A</td>\n",
       "      <td>Jan</td>\n",
       "      <td>60000</td>\n",
       "      <td>5000.0</td>\n",
       "      <td>180</td>\n",
       "    </tr>\n",
       "    <tr>\n",
       "      <th>1</th>\n",
       "      <td>A</td>\n",
       "      <td>Feb</td>\n",
       "      <td>60000</td>\n",
       "      <td>5000.0</td>\n",
       "      <td>180</td>\n",
       "    </tr>\n",
       "    <tr>\n",
       "      <th>2</th>\n",
       "      <td>A</td>\n",
       "      <td>Mar</td>\n",
       "      <td>60000</td>\n",
       "      <td>5000.0</td>\n",
       "      <td>180</td>\n",
       "    </tr>\n",
       "    <tr>\n",
       "      <th>3</th>\n",
       "      <td>A</td>\n",
       "      <td>Apr</td>\n",
       "      <td>60000</td>\n",
       "      <td>5000.0</td>\n",
       "      <td>180</td>\n",
       "    </tr>\n",
       "    <tr>\n",
       "      <th>4</th>\n",
       "      <td>A</td>\n",
       "      <td>May</td>\n",
       "      <td>60000</td>\n",
       "      <td>5000.0</td>\n",
       "      <td>180</td>\n",
       "    </tr>\n",
       "  </tbody>\n",
       "</table>\n",
       "</div>"
      ],
      "text/plain": [
       "  State Month  AnnualSalary  MonthlySalary  UnitOutSourceCost\n",
       "0     A   Jan         60000         5000.0                180\n",
       "1     A   Feb         60000         5000.0                180\n",
       "2     A   Mar         60000         5000.0                180\n",
       "3     A   Apr         60000         5000.0                180\n",
       "4     A   May         60000         5000.0                180"
      ]
     },
     "execution_count": 13,
     "metadata": {},
     "output_type": "execute_result"
    }
   ],
   "source": [
    "#To display Cost data set\n",
    "Cost.head()"
   ]
  },
  {
   "cell_type": "code",
   "execution_count": 14,
   "metadata": {
    "collapsed": true
   },
   "outputs": [
    {
     "data": {
      "text/html": [
       "<div>\n",
       "<style scoped>\n",
       "    .dataframe tbody tr th:only-of-type {\n",
       "        vertical-align: middle;\n",
       "    }\n",
       "\n",
       "    .dataframe tbody tr th {\n",
       "        vertical-align: top;\n",
       "    }\n",
       "\n",
       "    .dataframe thead th {\n",
       "        text-align: right;\n",
       "    }\n",
       "</style>\n",
       "<table border=\"1\" class=\"dataframe\">\n",
       "  <thead>\n",
       "    <tr style=\"text-align: right;\">\n",
       "      <th></th>\n",
       "      <th>MgAppServedPerMonth</th>\n",
       "    </tr>\n",
       "  </thead>\n",
       "  <tbody>\n",
       "    <tr>\n",
       "      <th>0</th>\n",
       "      <td>40</td>\n",
       "    </tr>\n",
       "  </tbody>\n",
       "</table>\n",
       "</div>"
      ],
      "text/plain": [
       "   MgAppServedPerMonth\n",
       "0                   40"
      ]
     },
     "execution_count": 14,
     "metadata": {},
     "output_type": "execute_result"
    }
   ],
   "source": [
    "#To display Service rate of application\n",
    "transCost.head()"
   ]
  },
  {
   "cell_type": "markdown",
   "metadata": {
    "id": "0bq4N9-V_CFZ"
   },
   "source": [
    "## Data pre-processing "
   ]
  },
  {
   "cell_type": "code",
   "execution_count": 15,
   "metadata": {
    "collapsed": true,
    "executionInfo": {
     "elapsed": 25,
     "status": "ok",
     "timestamp": 1623690961649,
     "user": {
      "displayName": "Sawal Malhotra",
      "photoUrl": "",
      "userId": "07925511662157739222"
     },
     "user_tz": -330
    },
    "id": "1vvaSpc-_CFa"
   },
   "outputs": [],
   "source": [
    "# Create the required Python data structures for indexes and parameters"
   ]
  },
  {
   "cell_type": "code",
   "execution_count": 16,
   "metadata": {
    "collapsed": true,
    "executionInfo": {
     "elapsed": 24,
     "status": "ok",
     "timestamp": 1623690961650,
     "user": {
      "displayName": "Sawal Malhotra",
      "photoUrl": "",
      "userId": "07925511662157739222"
     },
     "user_tz": -330
    },
    "id": "-b_ha8Y3110f"
   },
   "outputs": [],
   "source": [
    "# Creating Index for States/Bank Locations\n",
    "BankLoc=Cost['State'].unique()\n",
    "\n",
    "#Creating Index for  Months\n",
    "Month=Cost['Month'].unique()"
   ]
  },
  {
   "cell_type": "code",
   "execution_count": 17,
   "metadata": {
    "collapsed": true,
    "executionInfo": {
     "elapsed": 24,
     "status": "ok",
     "timestamp": 1623690961650,
     "user": {
      "displayName": "Sawal Malhotra",
      "photoUrl": "",
      "userId": "07925511662157739222"
     },
     "user_tz": -330
    },
    "id": "tg4QPMCI12r_"
   },
   "outputs": [],
   "source": [
    "#Defining parameter for Demand\n",
    "Demand=MgDemandDist.set_index(['State','Month'])['Demand'].to_dict()\n",
    "\n",
    "#Defining prameter for FTE Salary\n",
    "FTE_Salary=Cost.set_index(['State','Month'])['MonthlySalary'].to_dict()\n",
    "\n",
    "#Defining parameter for Unit outsource cost\n",
    "UnitOutSourceCost=Cost.set_index(['State','Month'])['UnitOutSourceCost'].to_dict()\n",
    "\n",
    "# Number of Application served with  100% availability\n",
    "FTE_AppServeRate=transCost.iloc[0,0]\n",
    "\n",
    "#Defining parameter for Minimum Staff availability\n",
    "StaffAv_LB=StaffAv.set_index(['State','Month'])['LB'].to_dict()\n",
    "\n",
    "#Defining parameter for Maximum Staff availability\n",
    "StaffAv_UB=StaffAv.set_index(['State','Month'])['UB'].to_dict()\n",
    "\n",
    "#Defining parameter for Average Staff availability\n",
    "StaffAvPer=StaffAv.set_index(['State','Month'])['StaffAvPer'].to_dict()\n",
    "\n"
   ]
  },
  {
   "cell_type": "markdown",
   "metadata": {
    "id": "e1ycvLM6_CFb"
   },
   "source": [
    "# Question 1\n",
    "\n",
    "The company wants to know the optimised staffing recommendations for the business case described. \n",
    "Write the mathematical model for the deterministic optimisation problem. Define and explain your decision variables, objective function and the constraint. (Hint: Use months of the year as the model timeline).\n",
    "\n"
   ]
  },
  {
   "cell_type": "code",
   "execution_count": 18,
   "metadata": {
    "collapsed": true,
    "executionInfo": {
     "elapsed": 23,
     "status": "ok",
     "timestamp": 1623690961650,
     "user": {
      "displayName": "Sawal Malhotra",
      "photoUrl": "",
      "userId": "07925511662157739222"
     },
     "user_tz": -330
    },
    "id": "yntEhIa0GLFa"
   },
   "outputs": [],
   "source": [
    "#Staffing Recommendations: Answered with Mathematical Expression have been mentioned in report. \n"
   ]
  },
  {
   "cell_type": "markdown",
   "metadata": {
    "id": "8zxFn1Ox_CFc"
   },
   "source": [
    "**Note:** You can write the mathematical formulation directly in your report."
   ]
  },
  {
   "cell_type": "markdown",
   "metadata": {
    "id": "FbTG7_Gq_CFc"
   },
   "source": [
    "# Question 2\n",
    "\n",
    "Code the problem is Python and use any optimization package to solve it. Add comments to your code to explain each step. "
   ]
  },
  {
   "cell_type": "markdown",
   "metadata": {
    "id": "UH1sjlju_CFc"
   },
   "source": [
    "#### Expected output:\n",
    "\n",
    "Create a data frame containing the number of outsourced applications  and the number of FTEs for each state-month combination. You can choose to have extra columns like staff availability, demand etc. in your dataframe apart from the ones mentioned earlier. "
   ]
  },
  {
   "cell_type": "code",
   "execution_count": 19,
   "metadata": {
    "collapsed": true,
    "executionInfo": {
     "elapsed": 24,
     "status": "ok",
     "timestamp": 1623690961651,
     "user": {
      "displayName": "Sawal Malhotra",
      "photoUrl": "",
      "userId": "07925511662157739222"
     },
     "user_tz": -330
    },
    "id": "QRDrC-DO_CFd"
   },
   "outputs": [
    {
     "ename": "NameError",
     "evalue": "name 'ConcreteModel' is not defined",
     "output_type": "error",
     "traceback": [
      "\u001b[1;31m---------------------------------------------------------------------------\u001b[0m",
      "\u001b[1;31mNameError\u001b[0m                                 Traceback (most recent call last)",
      "\u001b[1;32m<ipython-input-19-d8b3321be67d>\u001b[0m in \u001b[0;36m<module>\u001b[1;34m\u001b[0m\n\u001b[0;32m      1\u001b[0m \u001b[1;31m# Creating a model instance\u001b[0m\u001b[1;33m\u001b[0m\u001b[1;33m\u001b[0m\u001b[1;33m\u001b[0m\u001b[0m\n\u001b[1;32m----> 2\u001b[1;33m \u001b[0mmodel\u001b[0m\u001b[1;33m=\u001b[0m\u001b[0mConcreteModel\u001b[0m\u001b[1;33m(\u001b[0m\u001b[1;33m)\u001b[0m\u001b[1;33m\u001b[0m\u001b[1;33m\u001b[0m\u001b[0m\n\u001b[0m",
      "\u001b[1;31mNameError\u001b[0m: name 'ConcreteModel' is not defined"
     ]
    }
   ],
   "source": [
    "# Creating a model instance\n",
    "model=ConcreteModel()"
   ]
  },
  {
   "cell_type": "code",
   "execution_count": 557,
   "metadata": {
    "collapsed": true,
    "executionInfo": {
     "elapsed": 23,
     "status": "ok",
     "timestamp": 1623690961651,
     "user": {
      "displayName": "Sawal Malhotra",
      "photoUrl": "",
      "userId": "07925511662157739222"
     },
     "user_tz": -330
    },
    "id": "PHzDkpnc3-fI"
   },
   "outputs": [],
   "source": [
    "# Define Pyomo sets and Parameters\n",
    "\n",
    "#Defining Set for State and Months\n",
    "model.i=Set(initialize=BankLoc.tolist(),doc=\"State\")\n",
    "model.j=Set(initialize=Month.tolist(),doc=\"Months\")\n",
    "\n",
    "#Defining parameter for Demand\n",
    "Demand=MgDemandDist.set_index(['State','Month'])['Demand'].to_dict()\n",
    "\n",
    "#Defining prameter for FTE Salary\n",
    "FTE_Salary=Cost.set_index(['State','Month'])['MonthlySalary'].to_dict()\n",
    "\n",
    "#Defining parameter for Unit outsource cost\n",
    "UnitOutSourceCost=Cost.set_index(['State','Month'])['UnitOutSourceCost'].to_dict()\n",
    "\n",
    "# Number of Application served with  100% availability\n",
    "FTE_AppServeRate=transCost.iloc[0,0]\n",
    "\n",
    "#Defining parameter for Minimum Staff availability\n",
    "StaffAv_LB=StaffAv.set_index(['State','Month'])['LB'].to_dict()\n",
    "\n",
    "#Defining parameter for Maximum Staff availability\n",
    "StaffAv_UB=StaffAv.set_index(['State','Month'])['UB'].to_dict()\n",
    "\n",
    "#Defining parameter for Average Staff availability\n",
    "StaffAvPer=StaffAv.set_index(['State','Month'])['StaffAvPer'].to_dict()\n",
    "\n",
    "model.d=Param(model.i,model.j,initialize=Demand,doc='Demand')\n",
    "model.s=Param(model.i,model.j,initialize=FTE_Salary,doc='FTE_Salary')\n",
    "model.oc=Param(model.i,model.j,initialize=UnitOutSourceCost,doc='UnitOutSourceCost')\n",
    "model.sa=Param(model.i,model.j,initialize=StaffAvPer,doc='StaffAvPer')\n",
    "\n",
    "#Scalar Application Service rate when 100% working\n",
    "model.r=Param(initialize=FTE_AppServeRate,doc='FTE_AppServeRate')\n",
    "\n",
    "#Paramter for no of application that can be processed for given staff availability\n",
    "def c_FTEAPP(model,i,j):\n",
    "  return model.r* model.sa[i,j]\n",
    "\n",
    "model.FTEAPPNO=Param(model.i,model.j,initialize=c_FTEAPP,doc='No of FTE APP')\n",
    "\n",
    "# Prameter for Regulatory restriction for STate A\n",
    "def Reg_A(model,i,j):\n",
    "  return 0.30*model.d[i,j]\n",
    "\n",
    "model.Reg_A=Param(model.i,model.j,initialize=Reg_A,doc='RegRest_A')\n",
    "\n",
    "# Prameter for Regulatory restriction for STate B\n",
    "def Reg_B(model,i,j):\n",
    "  return 0.40*model.d[i,j]\n",
    "\n",
    "model.Reg_B=Param(model.i,model.j,initialize=Reg_B,doc='RegRest_B')"
   ]
  },
  {
   "cell_type": "code",
   "execution_count": 558,
   "metadata": {
    "collapsed": true,
    "executionInfo": {
     "elapsed": 24,
     "status": "ok",
     "timestamp": 1623690961652,
     "user": {
      "displayName": "Sawal Malhotra",
      "photoUrl": "",
      "userId": "07925511662157739222"
     },
     "user_tz": -330
    },
    "id": "EDcdCi4h_CFd"
   },
   "outputs": [],
   "source": [
    "# Decision variables\n",
    "\n",
    "model.x= Var(model.i,model.j,domain=NonNegativeReals,doc='No of FTE')\n",
    "model.y= Var(model.i,model.j,domain=NonNegativeIntegers,doc='No of Outsorced Apps')"
   ]
  },
  {
   "cell_type": "code",
   "execution_count": 559,
   "metadata": {
    "collapsed": true,
    "executionInfo": {
     "elapsed": 23,
     "status": "ok",
     "timestamp": 1623690961652,
     "user": {
      "displayName": "Sawal Malhotra",
      "photoUrl": "",
      "userId": "07925511662157739222"
     },
     "user_tz": -330
    },
    "id": "SQIebTk5_CFd"
   },
   "outputs": [],
   "source": [
    "# Constraints\n",
    "\n",
    "# Demand Constraint\n",
    "model.demand_constraint=ConstraintList()\n",
    "for i in model.i:\n",
    "  for j in model.j:\n",
    "    model.demand_constraint.add(expr=model.x[i,j]*model.FTEAPPNO[i,j] + model.y[i,j]==model.d[i,j])\n",
    "\n",
    "\n",
    "#Regulatory constraint\n",
    "model.regulatory_constraint=ConstraintList()\n",
    "for i in model.i:\n",
    "  for j in model.j:\n",
    "    if i =='A':\n",
    "      model.regulatory_constraint.add(expr= model.y['A',j] <=model.Reg_A['A',j])\n",
    "    elif i=='B':\n",
    "      model.regulatory_constraint.add(expr= model.y['B',j] <=model.Reg_B['B',j])\n"
   ]
  },
  {
   "cell_type": "code",
   "execution_count": 560,
   "metadata": {
    "collapsed": true,
    "executionInfo": {
     "elapsed": 24,
     "status": "ok",
     "timestamp": 1623690961652,
     "user": {
      "displayName": "Sawal Malhotra",
      "photoUrl": "",
      "userId": "07925511662157739222"
     },
     "user_tz": -330
    },
    "id": "Fi4DBvbv_CFe"
   },
   "outputs": [],
   "source": [
    "# Objective function\n",
    "\n",
    "# To Mininmize cost\n",
    "def objective_rule(model):\n",
    "  return sum(model.x[i,j]*model.s[i,j] for i in model.i for j in model.j) + sum(model.y[i,j]*model.oc[i,j] for i in  model.i for j in model.j)\n",
    "\n",
    "model.objective=Objective(rule=objective_rule, sense=minimize,doc='Define Objective Function')"
   ]
  },
  {
   "cell_type": "code",
   "execution_count": 561,
   "metadata": {
    "colab": {
     "base_uri": "https://localhost:8080/"
    },
    "collapsed": true,
    "executionInfo": {
     "elapsed": 896,
     "status": "ok",
     "timestamp": 1623690962526,
     "user": {
      "displayName": "Sawal Malhotra",
      "photoUrl": "",
      "userId": "07925511662157739222"
     },
     "user_tz": -330
    },
    "id": "G7OlYPX__CFe",
    "outputId": "0c1f0079-7c97-44b8-b85d-c015f61acf88"
   },
   "outputs": [
    {
     "name": "stdout",
     "output_type": "stream",
     "text": [
      "# ==========================================================\n",
      "# = Solver Results                                         =\n",
      "# ==========================================================\n",
      "# ----------------------------------------------------------\n",
      "#   Problem Information\n",
      "# ----------------------------------------------------------\n",
      "Problem: \n",
      "- Name: unknown\n",
      "  Lower bound: 17962336.4487699\n",
      "  Upper bound: 17962336.4487699\n",
      "  Number of objectives: 1\n",
      "  Number of constraints: 61\n",
      "  Number of variables: 73\n",
      "  Number of nonzeros: 97\n",
      "  Sense: minimize\n",
      "# ----------------------------------------------------------\n",
      "#   Solver Information\n",
      "# ----------------------------------------------------------\n",
      "Solver: \n",
      "- Status: ok\n",
      "  Termination condition: optimal\n",
      "  Statistics: \n",
      "    Branch and bound: \n",
      "      Number of bounded subproblems: 0\n",
      "      Number of created subproblems: 0\n",
      "  Error rc: 0\n",
      "  Time: 0.013334035873413086\n",
      "# ----------------------------------------------------------\n",
      "#   Solution Information\n",
      "# ----------------------------------------------------------\n",
      "Solution: \n",
      "- number of solutions: 0\n",
      "  number of solutions displayed: 0\n"
     ]
    }
   ],
   "source": [
    "# Invoking the solver\n",
    "\n",
    "result_cost=SolverFactory('glpk').solve(model)\n",
    "result_cost.write()"
   ]
  },
  {
   "cell_type": "code",
   "execution_count": 562,
   "metadata": {
    "colab": {
     "base_uri": "https://localhost:8080/"
    },
    "collapsed": true,
    "executionInfo": {
     "elapsed": 128,
     "status": "ok",
     "timestamp": 1623690962528,
     "user": {
      "displayName": "Sawal Malhotra",
      "photoUrl": "",
      "userId": "07925511662157739222"
     },
     "user_tz": -330
    },
    "id": "At2LA6ps_CFe",
    "outputId": "15c6bc62-b1a5-4549-c724-ea652e2af83e"
   },
   "outputs": [
    {
     "data": {
      "text/plain": [
       "17962336.448769882"
      ]
     },
     "execution_count": 562,
     "metadata": {
      "tags": []
     },
     "output_type": "execute_result"
    }
   ],
   "source": [
    "# Print the value of the objective function\n",
    "\n",
    "TotalCost=model.objective.expr()\n",
    "TotalCost\n"
   ]
  },
  {
   "cell_type": "markdown",
   "metadata": {
    "id": "Z5-6T_7M_CFe"
   },
   "source": [
    "**`Checkpoint 1:`** Seems like the company has to spend around 17.9 m$ in total for the application approval process."
   ]
  },
  {
   "cell_type": "code",
   "execution_count": 563,
   "metadata": {
    "colab": {
     "base_uri": "https://localhost:8080/"
    },
    "collapsed": true,
    "executionInfo": {
     "elapsed": 120,
     "status": "ok",
     "timestamp": 1623690962528,
     "user": {
      "displayName": "Sawal Malhotra",
      "photoUrl": "",
      "userId": "07925511662157739222"
     },
     "user_tz": -330
    },
    "id": "oxLivhct7g3R",
    "outputId": "392a86a0-21be-41b8-eef5-f87f2aeadceb"
   },
   "outputs": [
    {
     "name": "stdout",
     "output_type": "stream",
     "text": [
      "20749.0\n"
     ]
    }
   ],
   "source": [
    "#Total no of Outsorced applications\n",
    "s=0\n",
    "for i in model.i:\n",
    "  for j in model.j:\n",
    "    s=s+model.y[i,j].value\n",
    "print(s)"
   ]
  },
  {
   "cell_type": "code",
   "execution_count": 564,
   "metadata": {
    "colab": {
     "base_uri": "https://localhost:8080/"
    },
    "collapsed": true,
    "executionInfo": {
     "elapsed": 116,
     "status": "ok",
     "timestamp": 1623690962529,
     "user": {
      "displayName": "Sawal Malhotra",
      "photoUrl": "",
      "userId": "07925511662157739222"
     },
     "user_tz": -330
    },
    "id": "4M_3Tz-c4_hX",
    "outputId": "d4f02993-c645-46bd-9195-26a5d328d1d9"
   },
   "outputs": [
    {
     "name": "stdout",
     "output_type": "stream",
     "text": [
      "18.314297314950483\n"
     ]
    }
   ],
   "source": [
    "#Percentage of Outsorced applications\n",
    "TotalApplDemand=MgDemandDist['Demand'].sum()\n",
    "PercentageOutSourced=(s/TotalApplDemand)*100\n",
    "print(PercentageOutSourced)"
   ]
  },
  {
   "cell_type": "code",
   "execution_count": 565,
   "metadata": {
    "colab": {
     "base_uri": "https://localhost:8080/"
    },
    "collapsed": true,
    "executionInfo": {
     "elapsed": 112,
     "status": "ok",
     "timestamp": 1623690962530,
     "user": {
      "displayName": "Sawal Malhotra",
      "photoUrl": "",
      "userId": "07925511662157739222"
     },
     "user_tz": -330
    },
    "id": "G0eRJpJC2k7W",
    "outputId": "b9896cfb-a58e-4762-93c7-1e5511192d0b"
   },
   "outputs": [
    {
     "name": "stdout",
     "output_type": "stream",
     "text": [
      "13 Set Declarations\n",
      "    FTEAPPNO_index : Size=1, Index=None, Ordered=True\n",
      "        Key  : Dimen : Domain : Size : Members\n",
      "        None :     2 :    i*j :   36 : {('A', 'Jan'), ('A', 'Feb'), ('A', 'Mar'), ('A', 'Apr'), ('A', 'May'), ('A', 'Jun'), ('A', 'Jul'), ('A', 'Aug'), ('A', 'Sep'), ('A', 'Oct'), ('A', 'Nov'), ('A', 'Dec'), ('B', 'Jan'), ('B', 'Feb'), ('B', 'Mar'), ('B', 'Apr'), ('B', 'May'), ('B', 'Jun'), ('B', 'Jul'), ('B', 'Aug'), ('B', 'Sep'), ('B', 'Oct'), ('B', 'Nov'), ('B', 'Dec'), ('C', 'Jan'), ('C', 'Feb'), ('C', 'Mar'), ('C', 'Apr'), ('C', 'May'), ('C', 'Jun'), ('C', 'Jul'), ('C', 'Aug'), ('C', 'Sep'), ('C', 'Oct'), ('C', 'Nov'), ('C', 'Dec')}\n",
      "    Reg_A_index : Size=1, Index=None, Ordered=True\n",
      "        Key  : Dimen : Domain : Size : Members\n",
      "        None :     2 :    i*j :   36 : {('A', 'Jan'), ('A', 'Feb'), ('A', 'Mar'), ('A', 'Apr'), ('A', 'May'), ('A', 'Jun'), ('A', 'Jul'), ('A', 'Aug'), ('A', 'Sep'), ('A', 'Oct'), ('A', 'Nov'), ('A', 'Dec'), ('B', 'Jan'), ('B', 'Feb'), ('B', 'Mar'), ('B', 'Apr'), ('B', 'May'), ('B', 'Jun'), ('B', 'Jul'), ('B', 'Aug'), ('B', 'Sep'), ('B', 'Oct'), ('B', 'Nov'), ('B', 'Dec'), ('C', 'Jan'), ('C', 'Feb'), ('C', 'Mar'), ('C', 'Apr'), ('C', 'May'), ('C', 'Jun'), ('C', 'Jul'), ('C', 'Aug'), ('C', 'Sep'), ('C', 'Oct'), ('C', 'Nov'), ('C', 'Dec')}\n",
      "    Reg_B_index : Size=1, Index=None, Ordered=True\n",
      "        Key  : Dimen : Domain : Size : Members\n",
      "        None :     2 :    i*j :   36 : {('A', 'Jan'), ('A', 'Feb'), ('A', 'Mar'), ('A', 'Apr'), ('A', 'May'), ('A', 'Jun'), ('A', 'Jul'), ('A', 'Aug'), ('A', 'Sep'), ('A', 'Oct'), ('A', 'Nov'), ('A', 'Dec'), ('B', 'Jan'), ('B', 'Feb'), ('B', 'Mar'), ('B', 'Apr'), ('B', 'May'), ('B', 'Jun'), ('B', 'Jul'), ('B', 'Aug'), ('B', 'Sep'), ('B', 'Oct'), ('B', 'Nov'), ('B', 'Dec'), ('C', 'Jan'), ('C', 'Feb'), ('C', 'Mar'), ('C', 'Apr'), ('C', 'May'), ('C', 'Jun'), ('C', 'Jul'), ('C', 'Aug'), ('C', 'Sep'), ('C', 'Oct'), ('C', 'Nov'), ('C', 'Dec')}\n",
      "    d_index : Size=1, Index=None, Ordered=True\n",
      "        Key  : Dimen : Domain : Size : Members\n",
      "        None :     2 :    i*j :   36 : {('A', 'Jan'), ('A', 'Feb'), ('A', 'Mar'), ('A', 'Apr'), ('A', 'May'), ('A', 'Jun'), ('A', 'Jul'), ('A', 'Aug'), ('A', 'Sep'), ('A', 'Oct'), ('A', 'Nov'), ('A', 'Dec'), ('B', 'Jan'), ('B', 'Feb'), ('B', 'Mar'), ('B', 'Apr'), ('B', 'May'), ('B', 'Jun'), ('B', 'Jul'), ('B', 'Aug'), ('B', 'Sep'), ('B', 'Oct'), ('B', 'Nov'), ('B', 'Dec'), ('C', 'Jan'), ('C', 'Feb'), ('C', 'Mar'), ('C', 'Apr'), ('C', 'May'), ('C', 'Jun'), ('C', 'Jul'), ('C', 'Aug'), ('C', 'Sep'), ('C', 'Oct'), ('C', 'Nov'), ('C', 'Dec')}\n",
      "    demand_constraint_index : Size=1, Index=None, Ordered=Insertion\n",
      "        Key  : Dimen : Domain : Size : Members\n",
      "        None :     1 :    Any :   36 : {1, 2, 3, 4, 5, 6, 7, 8, 9, 10, 11, 12, 13, 14, 15, 16, 17, 18, 19, 20, 21, 22, 23, 24, 25, 26, 27, 28, 29, 30, 31, 32, 33, 34, 35, 36}\n",
      "    i : State\n",
      "        Size=1, Index=None, Ordered=Insertion\n",
      "        Key  : Dimen : Domain : Size : Members\n",
      "        None :     1 :    Any :    3 : {'A', 'B', 'C'}\n",
      "    j : Months\n",
      "        Size=1, Index=None, Ordered=Insertion\n",
      "        Key  : Dimen : Domain : Size : Members\n",
      "        None :     1 :    Any :   12 : {'Jan', 'Feb', 'Mar', 'Apr', 'May', 'Jun', 'Jul', 'Aug', 'Sep', 'Oct', 'Nov', 'Dec'}\n",
      "    oc_index : Size=1, Index=None, Ordered=True\n",
      "        Key  : Dimen : Domain : Size : Members\n",
      "        None :     2 :    i*j :   36 : {('A', 'Jan'), ('A', 'Feb'), ('A', 'Mar'), ('A', 'Apr'), ('A', 'May'), ('A', 'Jun'), ('A', 'Jul'), ('A', 'Aug'), ('A', 'Sep'), ('A', 'Oct'), ('A', 'Nov'), ('A', 'Dec'), ('B', 'Jan'), ('B', 'Feb'), ('B', 'Mar'), ('B', 'Apr'), ('B', 'May'), ('B', 'Jun'), ('B', 'Jul'), ('B', 'Aug'), ('B', 'Sep'), ('B', 'Oct'), ('B', 'Nov'), ('B', 'Dec'), ('C', 'Jan'), ('C', 'Feb'), ('C', 'Mar'), ('C', 'Apr'), ('C', 'May'), ('C', 'Jun'), ('C', 'Jul'), ('C', 'Aug'), ('C', 'Sep'), ('C', 'Oct'), ('C', 'Nov'), ('C', 'Dec')}\n",
      "    regulatory_constraint_index : Size=1, Index=None, Ordered=Insertion\n",
      "        Key  : Dimen : Domain : Size : Members\n",
      "        None :     1 :    Any :   24 : {1, 2, 3, 4, 5, 6, 7, 8, 9, 10, 11, 12, 13, 14, 15, 16, 17, 18, 19, 20, 21, 22, 23, 24}\n",
      "    s_index : Size=1, Index=None, Ordered=True\n",
      "        Key  : Dimen : Domain : Size : Members\n",
      "        None :     2 :    i*j :   36 : {('A', 'Jan'), ('A', 'Feb'), ('A', 'Mar'), ('A', 'Apr'), ('A', 'May'), ('A', 'Jun'), ('A', 'Jul'), ('A', 'Aug'), ('A', 'Sep'), ('A', 'Oct'), ('A', 'Nov'), ('A', 'Dec'), ('B', 'Jan'), ('B', 'Feb'), ('B', 'Mar'), ('B', 'Apr'), ('B', 'May'), ('B', 'Jun'), ('B', 'Jul'), ('B', 'Aug'), ('B', 'Sep'), ('B', 'Oct'), ('B', 'Nov'), ('B', 'Dec'), ('C', 'Jan'), ('C', 'Feb'), ('C', 'Mar'), ('C', 'Apr'), ('C', 'May'), ('C', 'Jun'), ('C', 'Jul'), ('C', 'Aug'), ('C', 'Sep'), ('C', 'Oct'), ('C', 'Nov'), ('C', 'Dec')}\n",
      "    sa_index : Size=1, Index=None, Ordered=True\n",
      "        Key  : Dimen : Domain : Size : Members\n",
      "        None :     2 :    i*j :   36 : {('A', 'Jan'), ('A', 'Feb'), ('A', 'Mar'), ('A', 'Apr'), ('A', 'May'), ('A', 'Jun'), ('A', 'Jul'), ('A', 'Aug'), ('A', 'Sep'), ('A', 'Oct'), ('A', 'Nov'), ('A', 'Dec'), ('B', 'Jan'), ('B', 'Feb'), ('B', 'Mar'), ('B', 'Apr'), ('B', 'May'), ('B', 'Jun'), ('B', 'Jul'), ('B', 'Aug'), ('B', 'Sep'), ('B', 'Oct'), ('B', 'Nov'), ('B', 'Dec'), ('C', 'Jan'), ('C', 'Feb'), ('C', 'Mar'), ('C', 'Apr'), ('C', 'May'), ('C', 'Jun'), ('C', 'Jul'), ('C', 'Aug'), ('C', 'Sep'), ('C', 'Oct'), ('C', 'Nov'), ('C', 'Dec')}\n",
      "    x_index : Size=1, Index=None, Ordered=True\n",
      "        Key  : Dimen : Domain : Size : Members\n",
      "        None :     2 :    i*j :   36 : {('A', 'Jan'), ('A', 'Feb'), ('A', 'Mar'), ('A', 'Apr'), ('A', 'May'), ('A', 'Jun'), ('A', 'Jul'), ('A', 'Aug'), ('A', 'Sep'), ('A', 'Oct'), ('A', 'Nov'), ('A', 'Dec'), ('B', 'Jan'), ('B', 'Feb'), ('B', 'Mar'), ('B', 'Apr'), ('B', 'May'), ('B', 'Jun'), ('B', 'Jul'), ('B', 'Aug'), ('B', 'Sep'), ('B', 'Oct'), ('B', 'Nov'), ('B', 'Dec'), ('C', 'Jan'), ('C', 'Feb'), ('C', 'Mar'), ('C', 'Apr'), ('C', 'May'), ('C', 'Jun'), ('C', 'Jul'), ('C', 'Aug'), ('C', 'Sep'), ('C', 'Oct'), ('C', 'Nov'), ('C', 'Dec')}\n",
      "    y_index : Size=1, Index=None, Ordered=True\n",
      "        Key  : Dimen : Domain : Size : Members\n",
      "        None :     2 :    i*j :   36 : {('A', 'Jan'), ('A', 'Feb'), ('A', 'Mar'), ('A', 'Apr'), ('A', 'May'), ('A', 'Jun'), ('A', 'Jul'), ('A', 'Aug'), ('A', 'Sep'), ('A', 'Oct'), ('A', 'Nov'), ('A', 'Dec'), ('B', 'Jan'), ('B', 'Feb'), ('B', 'Mar'), ('B', 'Apr'), ('B', 'May'), ('B', 'Jun'), ('B', 'Jul'), ('B', 'Aug'), ('B', 'Sep'), ('B', 'Oct'), ('B', 'Nov'), ('B', 'Dec'), ('C', 'Jan'), ('C', 'Feb'), ('C', 'Mar'), ('C', 'Apr'), ('C', 'May'), ('C', 'Jun'), ('C', 'Jul'), ('C', 'Aug'), ('C', 'Sep'), ('C', 'Oct'), ('C', 'Nov'), ('C', 'Dec')}\n",
      "\n",
      "8 Param Declarations\n",
      "    FTEAPPNO : No of FTE APP\n",
      "        Size=36, Index=FTEAPPNO_index, Domain=Any, Default=None, Mutable=False\n",
      "        Key          : Value\n",
      "        ('A', 'Apr') :               32.0\n",
      "        ('A', 'Aug') :               30.4\n",
      "        ('A', 'Dec') :               26.0\n",
      "        ('A', 'Feb') :               30.4\n",
      "        ('A', 'Jan') : 32.400000000000006\n",
      "        ('A', 'Jul') : 27.200000000000003\n",
      "        ('A', 'Jun') :               29.2\n",
      "        ('A', 'Mar') :               30.0\n",
      "        ('A', 'May') : 31.200000000000003\n",
      "        ('A', 'Nov') : 27.200000000000003\n",
      "        ('A', 'Oct') :               29.2\n",
      "        ('A', 'Sep') : 32.400000000000006\n",
      "        ('B', 'Apr') :               32.0\n",
      "        ('B', 'Aug') :               30.4\n",
      "        ('B', 'Dec') :               26.0\n",
      "        ('B', 'Feb') :               30.4\n",
      "        ('B', 'Jan') : 32.400000000000006\n",
      "        ('B', 'Jul') : 27.200000000000003\n",
      "        ('B', 'Jun') :               29.2\n",
      "        ('B', 'Mar') :               30.0\n",
      "        ('B', 'May') : 31.200000000000003\n",
      "        ('B', 'Nov') : 27.200000000000003\n",
      "        ('B', 'Oct') :               29.2\n",
      "        ('B', 'Sep') : 32.400000000000006\n",
      "        ('C', 'Apr') :               32.0\n",
      "        ('C', 'Aug') :               30.4\n",
      "        ('C', 'Dec') :               26.0\n",
      "        ('C', 'Feb') :               30.4\n",
      "        ('C', 'Jan') : 32.400000000000006\n",
      "        ('C', 'Jul') : 27.200000000000003\n",
      "        ('C', 'Jun') :               29.2\n",
      "        ('C', 'Mar') :               30.0\n",
      "        ('C', 'May') : 31.200000000000003\n",
      "        ('C', 'Nov') : 27.200000000000003\n",
      "        ('C', 'Oct') :               29.2\n",
      "        ('C', 'Sep') : 32.400000000000006\n",
      "    Reg_A : RegRest_A\n",
      "        Size=36, Index=Reg_A_index, Domain=Any, Default=None, Mutable=False\n",
      "        Key          : Value\n",
      "        ('A', 'Apr') :              689.1\n",
      "        ('A', 'Aug') :             1011.3\n",
      "        ('A', 'Dec') : 1554.8999999999999\n",
      "        ('A', 'Feb') : 1463.3999999999999\n",
      "        ('A', 'Jan') :             1572.0\n",
      "        ('A', 'Jul') :             1600.2\n",
      "        ('A', 'Jun') :              682.5\n",
      "        ('A', 'Mar') :             1782.6\n",
      "        ('A', 'May') :              597.6\n",
      "        ('A', 'Nov') :             1285.2\n",
      "        ('A', 'Oct') :             1058.7\n",
      "        ('A', 'Sep') :             1127.7\n",
      "        ('B', 'Apr') :              701.4\n",
      "        ('B', 'Aug') :              786.0\n",
      "        ('B', 'Dec') :             1268.1\n",
      "        ('B', 'Feb') :              788.4\n",
      "        ('B', 'Jan') :             1478.1\n",
      "        ('B', 'Jul') :             1281.3\n",
      "        ('B', 'Jun') :  944.0999999999999\n",
      "        ('B', 'Mar') :  892.1999999999999\n",
      "        ('B', 'May') :             1206.0\n",
      "        ('B', 'Nov') :  941.0999999999999\n",
      "        ('B', 'Oct') :             1246.5\n",
      "        ('B', 'Sep') :             1355.1\n",
      "        ('C', 'Apr') :              678.3\n",
      "        ('C', 'Aug') :              748.8\n",
      "        ('C', 'Dec') :              599.4\n",
      "        ('C', 'Feb') :              590.1\n",
      "        ('C', 'Jan') : 348.59999999999997\n",
      "        ('C', 'Jul') :  746.6999999999999\n",
      "        ('C', 'Jun') : 492.59999999999997\n",
      "        ('C', 'Mar') :              569.4\n",
      "        ('C', 'May') :              609.0\n",
      "        ('C', 'Nov') :              288.9\n",
      "        ('C', 'Oct') :              726.3\n",
      "        ('C', 'Sep') : 276.59999999999997\n",
      "    Reg_B : RegRest_B\n",
      "        Size=36, Index=Reg_B_index, Domain=Any, Default=None, Mutable=False\n",
      "        Key          : Value\n",
      "        ('A', 'Apr') :  918.8000000000001\n",
      "        ('A', 'Aug') :             1348.4\n",
      "        ('A', 'Dec') : 2073.2000000000003\n",
      "        ('A', 'Feb') :             1951.2\n",
      "        ('A', 'Jan') :             2096.0\n",
      "        ('A', 'Jul') :             2133.6\n",
      "        ('A', 'Jun') :              910.0\n",
      "        ('A', 'Mar') :             2376.8\n",
      "        ('A', 'May') :  796.8000000000001\n",
      "        ('A', 'Nov') : 1713.6000000000001\n",
      "        ('A', 'Oct') : 1411.6000000000001\n",
      "        ('A', 'Sep') : 1503.6000000000001\n",
      "        ('B', 'Apr') :              935.2\n",
      "        ('B', 'Aug') :             1048.0\n",
      "        ('B', 'Dec') : 1690.8000000000002\n",
      "        ('B', 'Feb') :             1051.2\n",
      "        ('B', 'Jan') : 1970.8000000000002\n",
      "        ('B', 'Jul') :             1708.4\n",
      "        ('B', 'Jun') : 1258.8000000000002\n",
      "        ('B', 'Mar') : 1189.6000000000001\n",
      "        ('B', 'May') :             1608.0\n",
      "        ('B', 'Nov') : 1254.8000000000002\n",
      "        ('B', 'Oct') :             1662.0\n",
      "        ('B', 'Sep') : 1806.8000000000002\n",
      "        ('C', 'Apr') :  904.4000000000001\n",
      "        ('C', 'Aug') :  998.4000000000001\n",
      "        ('C', 'Dec') :              799.2\n",
      "        ('C', 'Feb') :  786.8000000000001\n",
      "        ('C', 'Jan') :              464.8\n",
      "        ('C', 'Jul') :              995.6\n",
      "        ('C', 'Jun') :  656.8000000000001\n",
      "        ('C', 'Mar') :              759.2\n",
      "        ('C', 'May') :              812.0\n",
      "        ('C', 'Nov') : 385.20000000000005\n",
      "        ('C', 'Oct') :  968.4000000000001\n",
      "        ('C', 'Sep') :              368.8\n",
      "    d : Demand\n",
      "        Size=36, Index=d_index, Domain=Any, Default=None, Mutable=False\n",
      "        Key          : Value\n",
      "        ('A', 'Apr') :  2297\n",
      "        ('A', 'Aug') :  3371\n",
      "        ('A', 'Dec') :  5183\n",
      "        ('A', 'Feb') :  4878\n",
      "        ('A', 'Jan') :  5240\n",
      "        ('A', 'Jul') :  5334\n",
      "        ('A', 'Jun') :  2275\n",
      "        ('A', 'Mar') :  5942\n",
      "        ('A', 'May') :  1992\n",
      "        ('A', 'Nov') :  4284\n",
      "        ('A', 'Oct') :  3529\n",
      "        ('A', 'Sep') :  3759\n",
      "        ('B', 'Apr') :  2338\n",
      "        ('B', 'Aug') :  2620\n",
      "        ('B', 'Dec') :  4227\n",
      "        ('B', 'Feb') :  2628\n",
      "        ('B', 'Jan') :  4927\n",
      "        ('B', 'Jul') :  4271\n",
      "        ('B', 'Jun') :  3147\n",
      "        ('B', 'Mar') :  2974\n",
      "        ('B', 'May') :  4020\n",
      "        ('B', 'Nov') :  3137\n",
      "        ('B', 'Oct') :  4155\n",
      "        ('B', 'Sep') :  4517\n",
      "        ('C', 'Apr') :  2261\n",
      "        ('C', 'Aug') :  2496\n",
      "        ('C', 'Dec') :  1998\n",
      "        ('C', 'Feb') :  1967\n",
      "        ('C', 'Jan') :  1162\n",
      "        ('C', 'Jul') :  2489\n",
      "        ('C', 'Jun') :  1642\n",
      "        ('C', 'Mar') :  1898\n",
      "        ('C', 'May') :  2030\n",
      "        ('C', 'Nov') :   963\n",
      "        ('C', 'Oct') :  2421\n",
      "        ('C', 'Sep') :   922\n",
      "    oc : UnitOutSourceCost\n",
      "        Size=36, Index=oc_index, Domain=Any, Default=None, Mutable=False\n",
      "        Key          : Value\n",
      "        ('A', 'Apr') :   180\n",
      "        ('A', 'Aug') :   180\n",
      "        ('A', 'Dec') :   180\n",
      "        ('A', 'Feb') :   180\n",
      "        ('A', 'Jan') :   180\n",
      "        ('A', 'Jul') :   180\n",
      "        ('A', 'Jun') :   180\n",
      "        ('A', 'Mar') :   180\n",
      "        ('A', 'May') :   180\n",
      "        ('A', 'Nov') :   180\n",
      "        ('A', 'Oct') :   180\n",
      "        ('A', 'Sep') :   180\n",
      "        ('B', 'Apr') :   150\n",
      "        ('B', 'Aug') :   150\n",
      "        ('B', 'Dec') :   150\n",
      "        ('B', 'Feb') :   150\n",
      "        ('B', 'Jan') :   150\n",
      "        ('B', 'Jul') :   150\n",
      "        ('B', 'Jun') :   150\n",
      "        ('B', 'Mar') :   150\n",
      "        ('B', 'May') :   150\n",
      "        ('B', 'Nov') :   150\n",
      "        ('B', 'Oct') :   150\n",
      "        ('B', 'Sep') :   150\n",
      "        ('C', 'Apr') :   160\n",
      "        ('C', 'Aug') :   160\n",
      "        ('C', 'Dec') :   160\n",
      "        ('C', 'Feb') :   160\n",
      "        ('C', 'Jan') :   160\n",
      "        ('C', 'Jul') :   160\n",
      "        ('C', 'Jun') :   160\n",
      "        ('C', 'Mar') :   160\n",
      "        ('C', 'May') :   160\n",
      "        ('C', 'Nov') :   160\n",
      "        ('C', 'Oct') :   160\n",
      "        ('C', 'Sep') :   160\n",
      "    r : FTE_AppServeRate\n",
      "        Size=1, Index=None, Domain=Any, Default=None, Mutable=False\n",
      "        Key  : Value\n",
      "        None :    40\n",
      "    s : FTE_Salary\n",
      "        Size=36, Index=s_index, Domain=Any, Default=None, Mutable=False\n",
      "        Key          : Value\n",
      "        ('A', 'Apr') :            5000.0\n",
      "        ('A', 'Aug') :            5000.0\n",
      "        ('A', 'Dec') :            5000.0\n",
      "        ('A', 'Feb') :            5000.0\n",
      "        ('A', 'Jan') :            5000.0\n",
      "        ('A', 'Jul') :            5000.0\n",
      "        ('A', 'Jun') :            5000.0\n",
      "        ('A', 'Mar') :            5000.0\n",
      "        ('A', 'May') :            5000.0\n",
      "        ('A', 'Nov') :            5000.0\n",
      "        ('A', 'Oct') :            5000.0\n",
      "        ('A', 'Sep') :            5000.0\n",
      "        ('B', 'Apr') : 4583.333333333333\n",
      "        ('B', 'Aug') : 4583.333333333333\n",
      "        ('B', 'Dec') : 4583.333333333333\n",
      "        ('B', 'Feb') : 4583.333333333333\n",
      "        ('B', 'Jan') : 4583.333333333333\n",
      "        ('B', 'Jul') : 4583.333333333333\n",
      "        ('B', 'Jun') : 4583.333333333333\n",
      "        ('B', 'Mar') : 4583.333333333333\n",
      "        ('B', 'May') : 4583.333333333333\n",
      "        ('B', 'Nov') : 4583.333333333333\n",
      "        ('B', 'Oct') : 4583.333333333333\n",
      "        ('B', 'Sep') : 4583.333333333333\n",
      "        ('C', 'Apr') : 4416.666666666667\n",
      "        ('C', 'Aug') : 4416.666666666667\n",
      "        ('C', 'Dec') : 4416.666666666667\n",
      "        ('C', 'Feb') : 4416.666666666667\n",
      "        ('C', 'Jan') : 4416.666666666667\n",
      "        ('C', 'Jul') : 4416.666666666667\n",
      "        ('C', 'Jun') : 4416.666666666667\n",
      "        ('C', 'Mar') : 4416.666666666667\n",
      "        ('C', 'May') : 4416.666666666667\n",
      "        ('C', 'Nov') : 4416.666666666667\n",
      "        ('C', 'Oct') : 4416.666666666667\n",
      "        ('C', 'Sep') : 4416.666666666667\n",
      "    sa : StaffAvPer\n",
      "        Size=36, Index=sa_index, Domain=Any, Default=None, Mutable=False\n",
      "        Key          : Value\n",
      "        ('A', 'Apr') :   0.8\n",
      "        ('A', 'Aug') :  0.76\n",
      "        ('A', 'Dec') :  0.65\n",
      "        ('A', 'Feb') :  0.76\n",
      "        ('A', 'Jan') :  0.81\n",
      "        ('A', 'Jul') :  0.68\n",
      "        ('A', 'Jun') :  0.73\n",
      "        ('A', 'Mar') :  0.75\n",
      "        ('A', 'May') :  0.78\n",
      "        ('A', 'Nov') :  0.68\n",
      "        ('A', 'Oct') :  0.73\n",
      "        ('A', 'Sep') :  0.81\n",
      "        ('B', 'Apr') :   0.8\n",
      "        ('B', 'Aug') :  0.76\n",
      "        ('B', 'Dec') :  0.65\n",
      "        ('B', 'Feb') :  0.76\n",
      "        ('B', 'Jan') :  0.81\n",
      "        ('B', 'Jul') :  0.68\n",
      "        ('B', 'Jun') :  0.73\n",
      "        ('B', 'Mar') :  0.75\n",
      "        ('B', 'May') :  0.78\n",
      "        ('B', 'Nov') :  0.68\n",
      "        ('B', 'Oct') :  0.73\n",
      "        ('B', 'Sep') :  0.81\n",
      "        ('C', 'Apr') :   0.8\n",
      "        ('C', 'Aug') :  0.76\n",
      "        ('C', 'Dec') :  0.65\n",
      "        ('C', 'Feb') :  0.76\n",
      "        ('C', 'Jan') :  0.81\n",
      "        ('C', 'Jul') :  0.68\n",
      "        ('C', 'Jun') :  0.73\n",
      "        ('C', 'Mar') :  0.75\n",
      "        ('C', 'May') :  0.78\n",
      "        ('C', 'Nov') :  0.68\n",
      "        ('C', 'Oct') :  0.73\n",
      "        ('C', 'Sep') :  0.81\n",
      "\n",
      "2 Var Declarations\n",
      "    x : No of FTE\n",
      "        Size=36, Index=x_index\n",
      "        Key          : Lower : Value            : Upper : Fixed : Stale : Domain\n",
      "        ('A', 'Apr') :     0 :         71.78125 :  None : False : False : NonNegativeReals\n",
      "        ('A', 'Aug') :     0 : 110.888157894737 :  None : False : False : NonNegativeReals\n",
      "        ('A', 'Dec') :     0 : 139.576923076923 :  None : False : False : NonNegativeReals\n",
      "        ('A', 'Feb') :     0 : 160.460526315789 :  None : False : False : NonNegativeReals\n",
      "        ('A', 'Jan') :     0 : 161.728395061728 :  None : False : False : NonNegativeReals\n",
      "        ('A', 'Jul') :     0 : 137.279411764706 :  None : False : False : NonNegativeReals\n",
      "        ('A', 'Jun') :     0 : 77.9109589041096 :  None : False : False : NonNegativeReals\n",
      "        ('A', 'Mar') :     0 : 198.066666666667 :  None : False : False : NonNegativeReals\n",
      "        ('A', 'May') :     0 : 63.8461538461538 :  None : False : False : NonNegativeReals\n",
      "        ('A', 'Nov') :     0 : 110.257352941176 :  None : False : False : NonNegativeReals\n",
      "        ('A', 'Oct') :     0 : 120.856164383562 :  None : False : False : NonNegativeReals\n",
      "        ('A', 'Sep') :     0 : 116.018518518519 :  None : False : False : NonNegativeReals\n",
      "        ('B', 'Apr') :     0 :          73.0625 :  None : False : False : NonNegativeReals\n",
      "        ('B', 'Aug') :     0 : 51.7105263157895 :  None : False : False : NonNegativeReals\n",
      "        ('B', 'Dec') :     0 : 97.5769230769231 :  None : False : False : NonNegativeReals\n",
      "        ('B', 'Feb') :     0 :           51.875 :  None : False : False : NonNegativeReals\n",
      "        ('B', 'Jan') :     0 : 152.067901234568 :  None : False : False : NonNegativeReals\n",
      "        ('B', 'Jul') :     0 : 94.2279411764706 :  None : False : False : NonNegativeReals\n",
      "        ('B', 'Jun') :     0 : 64.6917808219178 :  None : False : False : NonNegativeReals\n",
      "        ('B', 'Mar') :     0 :             59.5 :  None : False : False : NonNegativeReals\n",
      "        ('B', 'May') :     0 : 128.846153846154 :  None : False : False : NonNegativeReals\n",
      "        ('B', 'Nov') :     0 : 69.2279411764706 :  None : False : False : NonNegativeReals\n",
      "        ('B', 'Oct') :     0 : 85.3767123287671 :  None : False : False : NonNegativeReals\n",
      "        ('B', 'Sep') :     0 : 139.413580246914 :  None : False : False : NonNegativeReals\n",
      "        ('C', 'Apr') :     0 :         70.65625 :  None : False : False : NonNegativeReals\n",
      "        ('C', 'Aug') :     0 : 82.1052631578947 :  None : False : False : NonNegativeReals\n",
      "        ('C', 'Dec') :     0 :              0.0 :  None : False : False : NonNegativeReals\n",
      "        ('C', 'Feb') :     0 : 64.7039473684211 :  None : False : False : NonNegativeReals\n",
      "        ('C', 'Jan') :     0 : 35.8641975308642 :  None : False : False : NonNegativeReals\n",
      "        ('C', 'Jul') :     0 :              0.0 :  None : False : False : NonNegativeReals\n",
      "        ('C', 'Jun') :     0 : 56.2328767123288 :  None : False : False : NonNegativeReals\n",
      "        ('C', 'Mar') :     0 : 63.2666666666667 :  None : False : False : NonNegativeReals\n",
      "        ('C', 'May') :     0 : 65.0641025641026 :  None : False : False : NonNegativeReals\n",
      "        ('C', 'Nov') :     0 :              0.0 :  None : False : False : NonNegativeReals\n",
      "        ('C', 'Oct') :     0 : 82.9109589041096 :  None : False : False : NonNegativeReals\n",
      "        ('C', 'Sep') :     0 : 28.4567901234568 :  None : False : False : NonNegativeReals\n",
      "    y : No of Outsorced Apps\n",
      "        Size=36, Index=y_index\n",
      "        Key          : Lower : Value  : Upper : Fixed : Stale : Domain\n",
      "        ('A', 'Apr') :     0 :    0.0 :  None : False : False : NonNegativeIntegers\n",
      "        ('A', 'Aug') :     0 :    0.0 :  None : False : False : NonNegativeIntegers\n",
      "        ('A', 'Dec') :     0 : 1554.0 :  None : False : False : NonNegativeIntegers\n",
      "        ('A', 'Feb') :     0 :    0.0 :  None : False : False : NonNegativeIntegers\n",
      "        ('A', 'Jan') :     0 :    0.0 :  None : False : False : NonNegativeIntegers\n",
      "        ('A', 'Jul') :     0 : 1600.0 :  None : False : False : NonNegativeIntegers\n",
      "        ('A', 'Jun') :     0 :    0.0 :  None : False : False : NonNegativeIntegers\n",
      "        ('A', 'Mar') :     0 :    0.0 :  None : False : False : NonNegativeIntegers\n",
      "        ('A', 'May') :     0 :    0.0 :  None : False : False : NonNegativeIntegers\n",
      "        ('A', 'Nov') :     0 : 1285.0 :  None : False : False : NonNegativeIntegers\n",
      "        ('A', 'Oct') :     0 :    0.0 :  None : False : False : NonNegativeIntegers\n",
      "        ('A', 'Sep') :     0 :    0.0 :  None : False : False : NonNegativeIntegers\n",
      "        ('B', 'Apr') :     0 :    0.0 :  None : False : False : NonNegativeIntegers\n",
      "        ('B', 'Aug') :     0 : 1048.0 :  None : False : False : NonNegativeIntegers\n",
      "        ('B', 'Dec') :     0 : 1690.0 :  None : False : False : NonNegativeIntegers\n",
      "        ('B', 'Feb') :     0 : 1051.0 :  None : False : False : NonNegativeIntegers\n",
      "        ('B', 'Jan') :     0 :    0.0 :  None : False : False : NonNegativeIntegers\n",
      "        ('B', 'Jul') :     0 : 1708.0 :  None : False : False : NonNegativeIntegers\n",
      "        ('B', 'Jun') :     0 : 1258.0 :  None : False : False : NonNegativeIntegers\n",
      "        ('B', 'Mar') :     0 : 1189.0 :  None : False : False : NonNegativeIntegers\n",
      "        ('B', 'May') :     0 :    0.0 :  None : False : False : NonNegativeIntegers\n",
      "        ('B', 'Nov') :     0 : 1254.0 :  None : False : False : NonNegativeIntegers\n",
      "        ('B', 'Oct') :     0 : 1662.0 :  None : False : False : NonNegativeIntegers\n",
      "        ('B', 'Sep') :     0 :    0.0 :  None : False : False : NonNegativeIntegers\n",
      "        ('C', 'Apr') :     0 :    0.0 :  None : False : False : NonNegativeIntegers\n",
      "        ('C', 'Aug') :     0 :    0.0 :  None : False : False : NonNegativeIntegers\n",
      "        ('C', 'Dec') :     0 : 1998.0 :  None : False : False : NonNegativeIntegers\n",
      "        ('C', 'Feb') :     0 :    0.0 :  None : False : False : NonNegativeIntegers\n",
      "        ('C', 'Jan') :     0 :    0.0 :  None : False : False : NonNegativeIntegers\n",
      "        ('C', 'Jul') :     0 : 2489.0 :  None : False : False : NonNegativeIntegers\n",
      "        ('C', 'Jun') :     0 :    0.0 :  None : False : False : NonNegativeIntegers\n",
      "        ('C', 'Mar') :     0 :    0.0 :  None : False : False : NonNegativeIntegers\n",
      "        ('C', 'May') :     0 :    0.0 :  None : False : False : NonNegativeIntegers\n",
      "        ('C', 'Nov') :     0 :  963.0 :  None : False : False : NonNegativeIntegers\n",
      "        ('C', 'Oct') :     0 :    0.0 :  None : False : False : NonNegativeIntegers\n",
      "        ('C', 'Sep') :     0 :    0.0 :  None : False : False : NonNegativeIntegers\n",
      "\n",
      "1 Objective Declarations\n",
      "    objective : Define Objective Function\n",
      "        Size=1, Index=None, Active=True\n",
      "        Key  : Active : Sense    : Expression\n",
      "        None :   True : minimize : 5000.0*x[A,Jan] + 5000.0*x[A,Feb] + 5000.0*x[A,Mar] + 5000.0*x[A,Apr] + 5000.0*x[A,May] + 5000.0*x[A,Jun] + 5000.0*x[A,Jul] + 5000.0*x[A,Aug] + 5000.0*x[A,Sep] + 5000.0*x[A,Oct] + 5000.0*x[A,Nov] + 5000.0*x[A,Dec] + 4583.333333333333*x[B,Jan] + 4583.333333333333*x[B,Feb] + 4583.333333333333*x[B,Mar] + 4583.333333333333*x[B,Apr] + 4583.333333333333*x[B,May] + 4583.333333333333*x[B,Jun] + 4583.333333333333*x[B,Jul] + 4583.333333333333*x[B,Aug] + 4583.333333333333*x[B,Sep] + 4583.333333333333*x[B,Oct] + 4583.333333333333*x[B,Nov] + 4583.333333333333*x[B,Dec] + 4416.666666666667*x[C,Jan] + 4416.666666666667*x[C,Feb] + 4416.666666666667*x[C,Mar] + 4416.666666666667*x[C,Apr] + 4416.666666666667*x[C,May] + 4416.666666666667*x[C,Jun] + 4416.666666666667*x[C,Jul] + 4416.666666666667*x[C,Aug] + 4416.666666666667*x[C,Sep] + 4416.666666666667*x[C,Oct] + 4416.666666666667*x[C,Nov] + 4416.666666666667*x[C,Dec] + 180*y[A,Jan] + 180*y[A,Feb] + 180*y[A,Mar] + 180*y[A,Apr] + 180*y[A,May] + 180*y[A,Jun] + 180*y[A,Jul] + 180*y[A,Aug] + 180*y[A,Sep] + 180*y[A,Oct] + 180*y[A,Nov] + 180*y[A,Dec] + 150*y[B,Jan] + 150*y[B,Feb] + 150*y[B,Mar] + 150*y[B,Apr] + 150*y[B,May] + 150*y[B,Jun] + 150*y[B,Jul] + 150*y[B,Aug] + 150*y[B,Sep] + 150*y[B,Oct] + 150*y[B,Nov] + 150*y[B,Dec] + 160*y[C,Jan] + 160*y[C,Feb] + 160*y[C,Mar] + 160*y[C,Apr] + 160*y[C,May] + 160*y[C,Jun] + 160*y[C,Jul] + 160*y[C,Aug] + 160*y[C,Sep] + 160*y[C,Oct] + 160*y[C,Nov] + 160*y[C,Dec]\n",
      "\n",
      "2 Constraint Declarations\n",
      "    demand_constraint : Size=36, Index=demand_constraint_index, Active=True\n",
      "        Key : Lower  : Body                                   : Upper  : Active\n",
      "          1 : 5240.0 : 32.400000000000006*x[A,Jan] + y[A,Jan] : 5240.0 :   True\n",
      "          2 : 4878.0 :               30.4*x[A,Feb] + y[A,Feb] : 4878.0 :   True\n",
      "          3 : 5942.0 :               30.0*x[A,Mar] + y[A,Mar] : 5942.0 :   True\n",
      "          4 : 2297.0 :               32.0*x[A,Apr] + y[A,Apr] : 2297.0 :   True\n",
      "          5 : 1992.0 : 31.200000000000003*x[A,May] + y[A,May] : 1992.0 :   True\n",
      "          6 : 2275.0 :               29.2*x[A,Jun] + y[A,Jun] : 2275.0 :   True\n",
      "          7 : 5334.0 : 27.200000000000003*x[A,Jul] + y[A,Jul] : 5334.0 :   True\n",
      "          8 : 3371.0 :               30.4*x[A,Aug] + y[A,Aug] : 3371.0 :   True\n",
      "          9 : 3759.0 : 32.400000000000006*x[A,Sep] + y[A,Sep] : 3759.0 :   True\n",
      "         10 : 3529.0 :               29.2*x[A,Oct] + y[A,Oct] : 3529.0 :   True\n",
      "         11 : 4284.0 : 27.200000000000003*x[A,Nov] + y[A,Nov] : 4284.0 :   True\n",
      "         12 : 5183.0 :               26.0*x[A,Dec] + y[A,Dec] : 5183.0 :   True\n",
      "         13 : 4927.0 : 32.400000000000006*x[B,Jan] + y[B,Jan] : 4927.0 :   True\n",
      "         14 : 2628.0 :               30.4*x[B,Feb] + y[B,Feb] : 2628.0 :   True\n",
      "         15 : 2974.0 :               30.0*x[B,Mar] + y[B,Mar] : 2974.0 :   True\n",
      "         16 : 2338.0 :               32.0*x[B,Apr] + y[B,Apr] : 2338.0 :   True\n",
      "         17 : 4020.0 : 31.200000000000003*x[B,May] + y[B,May] : 4020.0 :   True\n",
      "         18 : 3147.0 :               29.2*x[B,Jun] + y[B,Jun] : 3147.0 :   True\n",
      "         19 : 4271.0 : 27.200000000000003*x[B,Jul] + y[B,Jul] : 4271.0 :   True\n",
      "         20 : 2620.0 :               30.4*x[B,Aug] + y[B,Aug] : 2620.0 :   True\n",
      "         21 : 4517.0 : 32.400000000000006*x[B,Sep] + y[B,Sep] : 4517.0 :   True\n",
      "         22 : 4155.0 :               29.2*x[B,Oct] + y[B,Oct] : 4155.0 :   True\n",
      "         23 : 3137.0 : 27.200000000000003*x[B,Nov] + y[B,Nov] : 3137.0 :   True\n",
      "         24 : 4227.0 :               26.0*x[B,Dec] + y[B,Dec] : 4227.0 :   True\n",
      "         25 : 1162.0 : 32.400000000000006*x[C,Jan] + y[C,Jan] : 1162.0 :   True\n",
      "         26 : 1967.0 :               30.4*x[C,Feb] + y[C,Feb] : 1967.0 :   True\n",
      "         27 : 1898.0 :               30.0*x[C,Mar] + y[C,Mar] : 1898.0 :   True\n",
      "         28 : 2261.0 :               32.0*x[C,Apr] + y[C,Apr] : 2261.0 :   True\n",
      "         29 : 2030.0 : 31.200000000000003*x[C,May] + y[C,May] : 2030.0 :   True\n",
      "         30 : 1642.0 :               29.2*x[C,Jun] + y[C,Jun] : 1642.0 :   True\n",
      "         31 : 2489.0 : 27.200000000000003*x[C,Jul] + y[C,Jul] : 2489.0 :   True\n",
      "         32 : 2496.0 :               30.4*x[C,Aug] + y[C,Aug] : 2496.0 :   True\n",
      "         33 :  922.0 : 32.400000000000006*x[C,Sep] + y[C,Sep] :  922.0 :   True\n",
      "         34 : 2421.0 :               29.2*x[C,Oct] + y[C,Oct] : 2421.0 :   True\n",
      "         35 :  963.0 : 27.200000000000003*x[C,Nov] + y[C,Nov] :  963.0 :   True\n",
      "         36 : 1998.0 :               26.0*x[C,Dec] + y[C,Dec] : 1998.0 :   True\n",
      "    regulatory_constraint : Size=24, Index=regulatory_constraint_index, Active=True\n",
      "        Key : Lower : Body     : Upper              : Active\n",
      "          1 :  -Inf : y[A,Jan] :             1572.0 :   True\n",
      "          2 :  -Inf : y[A,Feb] : 1463.3999999999999 :   True\n",
      "          3 :  -Inf : y[A,Mar] :             1782.6 :   True\n",
      "          4 :  -Inf : y[A,Apr] :              689.1 :   True\n",
      "          5 :  -Inf : y[A,May] :              597.6 :   True\n",
      "          6 :  -Inf : y[A,Jun] :              682.5 :   True\n",
      "          7 :  -Inf : y[A,Jul] :             1600.2 :   True\n",
      "          8 :  -Inf : y[A,Aug] :             1011.3 :   True\n",
      "          9 :  -Inf : y[A,Sep] :             1127.7 :   True\n",
      "         10 :  -Inf : y[A,Oct] :             1058.7 :   True\n",
      "         11 :  -Inf : y[A,Nov] :             1285.2 :   True\n",
      "         12 :  -Inf : y[A,Dec] : 1554.8999999999999 :   True\n",
      "         13 :  -Inf : y[B,Jan] : 1970.8000000000002 :   True\n",
      "         14 :  -Inf : y[B,Feb] :             1051.2 :   True\n",
      "         15 :  -Inf : y[B,Mar] : 1189.6000000000001 :   True\n",
      "         16 :  -Inf : y[B,Apr] :              935.2 :   True\n",
      "         17 :  -Inf : y[B,May] :             1608.0 :   True\n",
      "         18 :  -Inf : y[B,Jun] : 1258.8000000000002 :   True\n",
      "         19 :  -Inf : y[B,Jul] :             1708.4 :   True\n",
      "         20 :  -Inf : y[B,Aug] :             1048.0 :   True\n",
      "         21 :  -Inf : y[B,Sep] : 1806.8000000000002 :   True\n",
      "         22 :  -Inf : y[B,Oct] :             1662.0 :   True\n",
      "         23 :  -Inf : y[B,Nov] : 1254.8000000000002 :   True\n",
      "         24 :  -Inf : y[B,Dec] : 1690.8000000000002 :   True\n",
      "\n",
      "26 Declarations: i j d_index d s_index s oc_index oc sa_index sa r FTEAPPNO_index FTEAPPNO Reg_A_index Reg_A Reg_B_index Reg_B x_index x y_index y demand_constraint_index demand_constraint regulatory_constraint_index regulatory_constraint objective\n"
     ]
    }
   ],
   "source": [
    "# To display the Model fileds and Result\n",
    "model.pprint()"
   ]
  },
  {
   "cell_type": "code",
   "execution_count": 566,
   "metadata": {
    "colab": {
     "base_uri": "https://localhost:8080/"
    },
    "collapsed": true,
    "executionInfo": {
     "elapsed": 107,
     "status": "ok",
     "timestamp": 1623690962530,
     "user": {
      "displayName": "Sawal Malhotra",
      "photoUrl": "",
      "userId": "07925511662157739222"
     },
     "user_tz": -330
    },
    "id": "vwk3nU_LtTQc",
    "outputId": "fef6505f-e505-420d-fc41-95ec083876ec"
   },
   "outputs": [
    {
     "name": "stdout",
     "output_type": "stream",
     "text": [
      "Model unknown\n",
      "\n",
      "  Variables:\n",
      "    x : No of FTE\n",
      "        Size=36, Index=x_index\n",
      "        Key          : Lower : Value            : Upper : Fixed : Stale : Domain\n",
      "        ('A', 'Apr') :     0 :         71.78125 :  None : False : False : NonNegativeReals\n",
      "        ('A', 'Aug') :     0 : 110.888157894737 :  None : False : False : NonNegativeReals\n",
      "        ('A', 'Dec') :     0 : 139.576923076923 :  None : False : False : NonNegativeReals\n",
      "        ('A', 'Feb') :     0 : 160.460526315789 :  None : False : False : NonNegativeReals\n",
      "        ('A', 'Jan') :     0 : 161.728395061728 :  None : False : False : NonNegativeReals\n",
      "        ('A', 'Jul') :     0 : 137.279411764706 :  None : False : False : NonNegativeReals\n",
      "        ('A', 'Jun') :     0 : 77.9109589041096 :  None : False : False : NonNegativeReals\n",
      "        ('A', 'Mar') :     0 : 198.066666666667 :  None : False : False : NonNegativeReals\n",
      "        ('A', 'May') :     0 : 63.8461538461538 :  None : False : False : NonNegativeReals\n",
      "        ('A', 'Nov') :     0 : 110.257352941176 :  None : False : False : NonNegativeReals\n",
      "        ('A', 'Oct') :     0 : 120.856164383562 :  None : False : False : NonNegativeReals\n",
      "        ('A', 'Sep') :     0 : 116.018518518519 :  None : False : False : NonNegativeReals\n",
      "        ('B', 'Apr') :     0 :          73.0625 :  None : False : False : NonNegativeReals\n",
      "        ('B', 'Aug') :     0 : 51.7105263157895 :  None : False : False : NonNegativeReals\n",
      "        ('B', 'Dec') :     0 : 97.5769230769231 :  None : False : False : NonNegativeReals\n",
      "        ('B', 'Feb') :     0 :           51.875 :  None : False : False : NonNegativeReals\n",
      "        ('B', 'Jan') :     0 : 152.067901234568 :  None : False : False : NonNegativeReals\n",
      "        ('B', 'Jul') :     0 : 94.2279411764706 :  None : False : False : NonNegativeReals\n",
      "        ('B', 'Jun') :     0 : 64.6917808219178 :  None : False : False : NonNegativeReals\n",
      "        ('B', 'Mar') :     0 :             59.5 :  None : False : False : NonNegativeReals\n",
      "        ('B', 'May') :     0 : 128.846153846154 :  None : False : False : NonNegativeReals\n",
      "        ('B', 'Nov') :     0 : 69.2279411764706 :  None : False : False : NonNegativeReals\n",
      "        ('B', 'Oct') :     0 : 85.3767123287671 :  None : False : False : NonNegativeReals\n",
      "        ('B', 'Sep') :     0 : 139.413580246914 :  None : False : False : NonNegativeReals\n",
      "        ('C', 'Apr') :     0 :         70.65625 :  None : False : False : NonNegativeReals\n",
      "        ('C', 'Aug') :     0 : 82.1052631578947 :  None : False : False : NonNegativeReals\n",
      "        ('C', 'Dec') :     0 :              0.0 :  None : False : False : NonNegativeReals\n",
      "        ('C', 'Feb') :     0 : 64.7039473684211 :  None : False : False : NonNegativeReals\n",
      "        ('C', 'Jan') :     0 : 35.8641975308642 :  None : False : False : NonNegativeReals\n",
      "        ('C', 'Jul') :     0 :              0.0 :  None : False : False : NonNegativeReals\n",
      "        ('C', 'Jun') :     0 : 56.2328767123288 :  None : False : False : NonNegativeReals\n",
      "        ('C', 'Mar') :     0 : 63.2666666666667 :  None : False : False : NonNegativeReals\n",
      "        ('C', 'May') :     0 : 65.0641025641026 :  None : False : False : NonNegativeReals\n",
      "        ('C', 'Nov') :     0 :              0.0 :  None : False : False : NonNegativeReals\n",
      "        ('C', 'Oct') :     0 : 82.9109589041096 :  None : False : False : NonNegativeReals\n",
      "        ('C', 'Sep') :     0 : 28.4567901234568 :  None : False : False : NonNegativeReals\n",
      "    y : No of Outsorced Apps\n",
      "        Size=36, Index=y_index\n",
      "        Key          : Lower : Value  : Upper : Fixed : Stale : Domain\n",
      "        ('A', 'Apr') :     0 :    0.0 :  None : False : False : NonNegativeIntegers\n",
      "        ('A', 'Aug') :     0 :    0.0 :  None : False : False : NonNegativeIntegers\n",
      "        ('A', 'Dec') :     0 : 1554.0 :  None : False : False : NonNegativeIntegers\n",
      "        ('A', 'Feb') :     0 :    0.0 :  None : False : False : NonNegativeIntegers\n",
      "        ('A', 'Jan') :     0 :    0.0 :  None : False : False : NonNegativeIntegers\n",
      "        ('A', 'Jul') :     0 : 1600.0 :  None : False : False : NonNegativeIntegers\n",
      "        ('A', 'Jun') :     0 :    0.0 :  None : False : False : NonNegativeIntegers\n",
      "        ('A', 'Mar') :     0 :    0.0 :  None : False : False : NonNegativeIntegers\n",
      "        ('A', 'May') :     0 :    0.0 :  None : False : False : NonNegativeIntegers\n",
      "        ('A', 'Nov') :     0 : 1285.0 :  None : False : False : NonNegativeIntegers\n",
      "        ('A', 'Oct') :     0 :    0.0 :  None : False : False : NonNegativeIntegers\n",
      "        ('A', 'Sep') :     0 :    0.0 :  None : False : False : NonNegativeIntegers\n",
      "        ('B', 'Apr') :     0 :    0.0 :  None : False : False : NonNegativeIntegers\n",
      "        ('B', 'Aug') :     0 : 1048.0 :  None : False : False : NonNegativeIntegers\n",
      "        ('B', 'Dec') :     0 : 1690.0 :  None : False : False : NonNegativeIntegers\n",
      "        ('B', 'Feb') :     0 : 1051.0 :  None : False : False : NonNegativeIntegers\n",
      "        ('B', 'Jan') :     0 :    0.0 :  None : False : False : NonNegativeIntegers\n",
      "        ('B', 'Jul') :     0 : 1708.0 :  None : False : False : NonNegativeIntegers\n",
      "        ('B', 'Jun') :     0 : 1258.0 :  None : False : False : NonNegativeIntegers\n",
      "        ('B', 'Mar') :     0 : 1189.0 :  None : False : False : NonNegativeIntegers\n",
      "        ('B', 'May') :     0 :    0.0 :  None : False : False : NonNegativeIntegers\n",
      "        ('B', 'Nov') :     0 : 1254.0 :  None : False : False : NonNegativeIntegers\n",
      "        ('B', 'Oct') :     0 : 1662.0 :  None : False : False : NonNegativeIntegers\n",
      "        ('B', 'Sep') :     0 :    0.0 :  None : False : False : NonNegativeIntegers\n",
      "        ('C', 'Apr') :     0 :    0.0 :  None : False : False : NonNegativeIntegers\n",
      "        ('C', 'Aug') :     0 :    0.0 :  None : False : False : NonNegativeIntegers\n",
      "        ('C', 'Dec') :     0 : 1998.0 :  None : False : False : NonNegativeIntegers\n",
      "        ('C', 'Feb') :     0 :    0.0 :  None : False : False : NonNegativeIntegers\n",
      "        ('C', 'Jan') :     0 :    0.0 :  None : False : False : NonNegativeIntegers\n",
      "        ('C', 'Jul') :     0 : 2489.0 :  None : False : False : NonNegativeIntegers\n",
      "        ('C', 'Jun') :     0 :    0.0 :  None : False : False : NonNegativeIntegers\n",
      "        ('C', 'Mar') :     0 :    0.0 :  None : False : False : NonNegativeIntegers\n",
      "        ('C', 'May') :     0 :    0.0 :  None : False : False : NonNegativeIntegers\n",
      "        ('C', 'Nov') :     0 :  963.0 :  None : False : False : NonNegativeIntegers\n",
      "        ('C', 'Oct') :     0 :    0.0 :  None : False : False : NonNegativeIntegers\n",
      "        ('C', 'Sep') :     0 :    0.0 :  None : False : False : NonNegativeIntegers\n",
      "\n",
      "  Objectives:\n",
      "    objective : Size=1, Index=None, Active=True\n",
      "        Key  : Active : Value\n",
      "        None :   True : 17962336.448769882\n",
      "\n",
      "  Constraints:\n",
      "    demand_constraint : Size=36\n",
      "        Key : Lower  : Body               : Upper\n",
      "          1 : 5240.0 :  5239.999999999988 : 5240.0\n",
      "          2 : 4878.0 :  4877.999999999985 : 4878.0\n",
      "          3 : 5942.0 :   5942.00000000001 : 5942.0\n",
      "          4 : 2297.0 :             2297.0 : 2297.0\n",
      "          5 : 1992.0 : 1991.9999999999986 : 1992.0\n",
      "          6 : 2275.0 : 2275.0000000000005 : 2275.0\n",
      "          7 : 5334.0 :  5334.000000000004 : 5334.0\n",
      "          8 : 3371.0 :  3371.000000000005 : 3371.0\n",
      "          9 : 3759.0 : 3759.0000000000164 : 3759.0\n",
      "         10 : 3529.0 : 3529.0000000000105 : 3529.0\n",
      "         11 : 4284.0 :  4283.999999999987 : 4284.0\n",
      "         12 : 5183.0 :  5182.999999999998 : 5183.0\n",
      "         13 : 4927.0 :  4927.000000000005 : 4927.0\n",
      "         14 : 2628.0 :             2628.0 : 2628.0\n",
      "         15 : 2974.0 :             2974.0 : 2974.0\n",
      "         16 : 2338.0 :             2338.0 : 2338.0\n",
      "         17 : 4020.0 : 4020.0000000000055 : 4020.0\n",
      "         18 : 3147.0 :             3147.0 : 3147.0\n",
      "         19 : 4271.0 :             4271.0 : 4271.0\n",
      "         20 : 2620.0 :  2620.000000000001 : 2620.0\n",
      "         21 : 4517.0 :  4517.000000000015 : 4517.0\n",
      "         22 : 4155.0 :  4154.999999999999 : 4155.0\n",
      "         23 : 3137.0 : 3137.0000000000005 : 3137.0\n",
      "         24 : 4227.0 :             4227.0 : 4227.0\n",
      "         25 : 1162.0 : 1162.0000000000005 : 1162.0\n",
      "         26 : 1967.0 : 1967.0000000000014 : 1967.0\n",
      "         27 : 1898.0 : 1898.0000000000011 : 1898.0\n",
      "         28 : 2261.0 :             2261.0 : 2261.0\n",
      "         29 : 2030.0 : 2030.0000000000011 : 2030.0\n",
      "         30 : 1642.0 :  1642.000000000001 : 1642.0\n",
      "         31 : 2489.0 :             2489.0 : 2489.0\n",
      "         32 : 2496.0 : 2495.9999999999986 : 2496.0\n",
      "         33 :  922.0 :  922.0000000000005 :  922.0\n",
      "         34 : 2421.0 : 2421.0000000000005 : 2421.0\n",
      "         35 :  963.0 :              963.0 :  963.0\n",
      "         36 : 1998.0 :             1998.0 : 1998.0\n",
      "    regulatory_constraint : Size=24\n",
      "        Key : Lower : Body   : Upper\n",
      "          1 :  None :    0.0 :             1572.0\n",
      "          2 :  None :    0.0 : 1463.3999999999999\n",
      "          3 :  None :    0.0 :             1782.6\n",
      "          4 :  None :    0.0 :              689.1\n",
      "          5 :  None :    0.0 :              597.6\n",
      "          6 :  None :    0.0 :              682.5\n",
      "          7 :  None : 1600.0 :             1600.2\n",
      "          8 :  None :    0.0 :             1011.3\n",
      "          9 :  None :    0.0 :             1127.7\n",
      "         10 :  None :    0.0 :             1058.7\n",
      "         11 :  None : 1285.0 :             1285.2\n",
      "         12 :  None : 1554.0 : 1554.8999999999999\n",
      "         13 :  None :    0.0 : 1970.8000000000002\n",
      "         14 :  None : 1051.0 :             1051.2\n",
      "         15 :  None : 1189.0 : 1189.6000000000001\n",
      "         16 :  None :    0.0 :              935.2\n",
      "         17 :  None :    0.0 :             1608.0\n",
      "         18 :  None : 1258.0 : 1258.8000000000002\n",
      "         19 :  None : 1708.0 :             1708.4\n",
      "         20 :  None : 1048.0 :             1048.0\n",
      "         21 :  None :    0.0 : 1806.8000000000002\n",
      "         22 :  None : 1662.0 :             1662.0\n",
      "         23 :  None : 1254.0 : 1254.8000000000002\n",
      "         24 :  None : 1690.0 : 1690.8000000000002\n"
     ]
    }
   ],
   "source": [
    "#To display Model values along with Constraints and Objective Function\n",
    "model.display()"
   ]
  },
  {
   "cell_type": "code",
   "execution_count": 567,
   "metadata": {
    "colab": {
     "base_uri": "https://localhost:8080/"
    },
    "collapsed": true,
    "executionInfo": {
     "elapsed": 90,
     "status": "ok",
     "timestamp": 1623690962531,
     "user": {
      "displayName": "Sawal Malhotra",
      "photoUrl": "",
      "userId": "07925511662157739222"
     },
     "user_tz": -330
    },
    "id": "KC3Dwk4B_CFe",
    "outputId": "b042693e-e4f7-4317-ead5-c2bde0d9a663"
   },
   "outputs": [
    {
     "name": "stdout",
     "output_type": "stream",
     "text": [
      "[['A', 'Jan', 5240, 0.81, 161.728395061728, 0.0, 5240], ['A', 'Feb', 4878, 0.76, 160.460526315789, 0.0, 4878], ['A', 'Mar', 5942, 0.75, 198.066666666667, 0.0, 5942], ['A', 'Apr', 2297, 0.8, 71.78125, 0.0, 2297], ['A', 'May', 1992, 0.78, 63.8461538461538, 0.0, 1992], ['A', 'Jun', 2275, 0.73, 77.9109589041096, 0.0, 2275], ['A', 'Jul', 5334, 0.68, 137.279411764706, 1600.0, 5334], ['A', 'Aug', 3371, 0.76, 110.888157894737, 0.0, 3371], ['A', 'Sep', 3759, 0.81, 116.018518518519, 0.0, 3759], ['A', 'Oct', 3529, 0.73, 120.856164383562, 0.0, 3529], ['A', 'Nov', 4284, 0.68, 110.257352941176, 1285.0, 4284], ['A', 'Dec', 5183, 0.65, 139.576923076923, 1554.0, 5183], ['B', 'Jan', 4927, 0.81, 152.067901234568, 0.0, 4927], ['B', 'Feb', 2628, 0.76, 51.875, 1051.0, 2628], ['B', 'Mar', 2974, 0.75, 59.5, 1189.0, 2974], ['B', 'Apr', 2338, 0.8, 73.0625, 0.0, 2338], ['B', 'May', 4020, 0.78, 128.846153846154, 0.0, 4020], ['B', 'Jun', 3147, 0.73, 64.6917808219178, 1258.0, 3147], ['B', 'Jul', 4271, 0.68, 94.2279411764706, 1708.0, 4271], ['B', 'Aug', 2620, 0.76, 51.7105263157895, 1048.0, 2620], ['B', 'Sep', 4517, 0.81, 139.413580246914, 0.0, 4517], ['B', 'Oct', 4155, 0.73, 85.3767123287671, 1662.0, 4155], ['B', 'Nov', 3137, 0.68, 69.2279411764706, 1254.0, 3137], ['B', 'Dec', 4227, 0.65, 97.5769230769231, 1690.0, 4227], ['C', 'Jan', 1162, 0.81, 35.8641975308642, 0.0, 1162], ['C', 'Feb', 1967, 0.76, 64.7039473684211, 0.0, 1967], ['C', 'Mar', 1898, 0.75, 63.2666666666667, 0.0, 1898], ['C', 'Apr', 2261, 0.8, 70.65625, 0.0, 2261], ['C', 'May', 2030, 0.78, 65.0641025641026, 0.0, 2030], ['C', 'Jun', 1642, 0.73, 56.2328767123288, 0.0, 1642], ['C', 'Jul', 2489, 0.68, 0.0, 2489.0, 2489], ['C', 'Aug', 2496, 0.76, 82.1052631578947, 0.0, 2496], ['C', 'Sep', 922, 0.81, 28.4567901234568, 0.0, 922], ['C', 'Oct', 2421, 0.73, 82.9109589041096, 0.0, 2421], ['C', 'Nov', 963, 0.68, 0.0, 963.0, 963], ['C', 'Dec', 1998, 0.65, 0.0, 1998.0, 1998]]\n"
     ]
    }
   ],
   "source": [
    "#Calculating the Result in Column format\n",
    "output=[]\n",
    "\n",
    "for i in model.i:\n",
    "  for j in model.j:\n",
    "    No_Of_FTE=model.x[i,j].value\n",
    "    No_of_OutsorcedApps=model.y[i,j].value\n",
    "    Demand=model.d[i,j]\n",
    "    StaffAvPer=model.sa[i,j]\n",
    "    output.append([i,j,Demand,StaffAvPer,No_Of_FTE,No_of_OutsorcedApps,Demand])\n",
    "\n",
    "print(output)"
   ]
  },
  {
   "cell_type": "code",
   "execution_count": 568,
   "metadata": {
    "colab": {
     "base_uri": "https://localhost:8080/",
     "height": 1000
    },
    "collapsed": true,
    "executionInfo": {
     "elapsed": 82,
     "status": "ok",
     "timestamp": 1623690962531,
     "user": {
      "displayName": "Sawal Malhotra",
      "photoUrl": "",
      "userId": "07925511662157739222"
     },
     "user_tz": -330
    },
    "id": "Bh7fQtF9MiPU",
    "outputId": "10d22318-329a-486c-c241-af7014a44ee1"
   },
   "outputs": [
    {
     "data": {
      "text/html": [
       "<div>\n",
       "<style scoped>\n",
       "    .dataframe tbody tr th:only-of-type {\n",
       "        vertical-align: middle;\n",
       "    }\n",
       "\n",
       "    .dataframe tbody tr th {\n",
       "        vertical-align: top;\n",
       "    }\n",
       "\n",
       "    .dataframe thead th {\n",
       "        text-align: right;\n",
       "    }\n",
       "</style>\n",
       "<table border=\"1\" class=\"dataframe\">\n",
       "  <thead>\n",
       "    <tr style=\"text-align: right;\">\n",
       "      <th></th>\n",
       "      <th>State</th>\n",
       "      <th>Month</th>\n",
       "      <th>Demand</th>\n",
       "      <th>StaffAvPer</th>\n",
       "      <th>FTE</th>\n",
       "      <th>Apps_Outsorced</th>\n",
       "      <th>FTE_APP_Served</th>\n",
       "    </tr>\n",
       "  </thead>\n",
       "  <tbody>\n",
       "    <tr>\n",
       "      <th>0</th>\n",
       "      <td>A</td>\n",
       "      <td>Jan</td>\n",
       "      <td>5240</td>\n",
       "      <td>0.81</td>\n",
       "      <td>161.728395</td>\n",
       "      <td>0.0</td>\n",
       "      <td>5240</td>\n",
       "    </tr>\n",
       "    <tr>\n",
       "      <th>1</th>\n",
       "      <td>A</td>\n",
       "      <td>Feb</td>\n",
       "      <td>4878</td>\n",
       "      <td>0.76</td>\n",
       "      <td>160.460526</td>\n",
       "      <td>0.0</td>\n",
       "      <td>4878</td>\n",
       "    </tr>\n",
       "    <tr>\n",
       "      <th>2</th>\n",
       "      <td>A</td>\n",
       "      <td>Mar</td>\n",
       "      <td>5942</td>\n",
       "      <td>0.75</td>\n",
       "      <td>198.066667</td>\n",
       "      <td>0.0</td>\n",
       "      <td>5942</td>\n",
       "    </tr>\n",
       "    <tr>\n",
       "      <th>3</th>\n",
       "      <td>A</td>\n",
       "      <td>Apr</td>\n",
       "      <td>2297</td>\n",
       "      <td>0.80</td>\n",
       "      <td>71.781250</td>\n",
       "      <td>0.0</td>\n",
       "      <td>2297</td>\n",
       "    </tr>\n",
       "    <tr>\n",
       "      <th>4</th>\n",
       "      <td>A</td>\n",
       "      <td>May</td>\n",
       "      <td>1992</td>\n",
       "      <td>0.78</td>\n",
       "      <td>63.846154</td>\n",
       "      <td>0.0</td>\n",
       "      <td>1992</td>\n",
       "    </tr>\n",
       "    <tr>\n",
       "      <th>5</th>\n",
       "      <td>A</td>\n",
       "      <td>Jun</td>\n",
       "      <td>2275</td>\n",
       "      <td>0.73</td>\n",
       "      <td>77.910959</td>\n",
       "      <td>0.0</td>\n",
       "      <td>2275</td>\n",
       "    </tr>\n",
       "    <tr>\n",
       "      <th>6</th>\n",
       "      <td>A</td>\n",
       "      <td>Jul</td>\n",
       "      <td>5334</td>\n",
       "      <td>0.68</td>\n",
       "      <td>137.279412</td>\n",
       "      <td>1600.0</td>\n",
       "      <td>5334</td>\n",
       "    </tr>\n",
       "    <tr>\n",
       "      <th>7</th>\n",
       "      <td>A</td>\n",
       "      <td>Aug</td>\n",
       "      <td>3371</td>\n",
       "      <td>0.76</td>\n",
       "      <td>110.888158</td>\n",
       "      <td>0.0</td>\n",
       "      <td>3371</td>\n",
       "    </tr>\n",
       "    <tr>\n",
       "      <th>8</th>\n",
       "      <td>A</td>\n",
       "      <td>Sep</td>\n",
       "      <td>3759</td>\n",
       "      <td>0.81</td>\n",
       "      <td>116.018519</td>\n",
       "      <td>0.0</td>\n",
       "      <td>3759</td>\n",
       "    </tr>\n",
       "    <tr>\n",
       "      <th>9</th>\n",
       "      <td>A</td>\n",
       "      <td>Oct</td>\n",
       "      <td>3529</td>\n",
       "      <td>0.73</td>\n",
       "      <td>120.856164</td>\n",
       "      <td>0.0</td>\n",
       "      <td>3529</td>\n",
       "    </tr>\n",
       "    <tr>\n",
       "      <th>10</th>\n",
       "      <td>A</td>\n",
       "      <td>Nov</td>\n",
       "      <td>4284</td>\n",
       "      <td>0.68</td>\n",
       "      <td>110.257353</td>\n",
       "      <td>1285.0</td>\n",
       "      <td>4284</td>\n",
       "    </tr>\n",
       "    <tr>\n",
       "      <th>11</th>\n",
       "      <td>A</td>\n",
       "      <td>Dec</td>\n",
       "      <td>5183</td>\n",
       "      <td>0.65</td>\n",
       "      <td>139.576923</td>\n",
       "      <td>1554.0</td>\n",
       "      <td>5183</td>\n",
       "    </tr>\n",
       "    <tr>\n",
       "      <th>12</th>\n",
       "      <td>B</td>\n",
       "      <td>Jan</td>\n",
       "      <td>4927</td>\n",
       "      <td>0.81</td>\n",
       "      <td>152.067901</td>\n",
       "      <td>0.0</td>\n",
       "      <td>4927</td>\n",
       "    </tr>\n",
       "    <tr>\n",
       "      <th>13</th>\n",
       "      <td>B</td>\n",
       "      <td>Feb</td>\n",
       "      <td>2628</td>\n",
       "      <td>0.76</td>\n",
       "      <td>51.875000</td>\n",
       "      <td>1051.0</td>\n",
       "      <td>2628</td>\n",
       "    </tr>\n",
       "    <tr>\n",
       "      <th>14</th>\n",
       "      <td>B</td>\n",
       "      <td>Mar</td>\n",
       "      <td>2974</td>\n",
       "      <td>0.75</td>\n",
       "      <td>59.500000</td>\n",
       "      <td>1189.0</td>\n",
       "      <td>2974</td>\n",
       "    </tr>\n",
       "    <tr>\n",
       "      <th>15</th>\n",
       "      <td>B</td>\n",
       "      <td>Apr</td>\n",
       "      <td>2338</td>\n",
       "      <td>0.80</td>\n",
       "      <td>73.062500</td>\n",
       "      <td>0.0</td>\n",
       "      <td>2338</td>\n",
       "    </tr>\n",
       "    <tr>\n",
       "      <th>16</th>\n",
       "      <td>B</td>\n",
       "      <td>May</td>\n",
       "      <td>4020</td>\n",
       "      <td>0.78</td>\n",
       "      <td>128.846154</td>\n",
       "      <td>0.0</td>\n",
       "      <td>4020</td>\n",
       "    </tr>\n",
       "    <tr>\n",
       "      <th>17</th>\n",
       "      <td>B</td>\n",
       "      <td>Jun</td>\n",
       "      <td>3147</td>\n",
       "      <td>0.73</td>\n",
       "      <td>64.691781</td>\n",
       "      <td>1258.0</td>\n",
       "      <td>3147</td>\n",
       "    </tr>\n",
       "    <tr>\n",
       "      <th>18</th>\n",
       "      <td>B</td>\n",
       "      <td>Jul</td>\n",
       "      <td>4271</td>\n",
       "      <td>0.68</td>\n",
       "      <td>94.227941</td>\n",
       "      <td>1708.0</td>\n",
       "      <td>4271</td>\n",
       "    </tr>\n",
       "    <tr>\n",
       "      <th>19</th>\n",
       "      <td>B</td>\n",
       "      <td>Aug</td>\n",
       "      <td>2620</td>\n",
       "      <td>0.76</td>\n",
       "      <td>51.710526</td>\n",
       "      <td>1048.0</td>\n",
       "      <td>2620</td>\n",
       "    </tr>\n",
       "    <tr>\n",
       "      <th>20</th>\n",
       "      <td>B</td>\n",
       "      <td>Sep</td>\n",
       "      <td>4517</td>\n",
       "      <td>0.81</td>\n",
       "      <td>139.413580</td>\n",
       "      <td>0.0</td>\n",
       "      <td>4517</td>\n",
       "    </tr>\n",
       "    <tr>\n",
       "      <th>21</th>\n",
       "      <td>B</td>\n",
       "      <td>Oct</td>\n",
       "      <td>4155</td>\n",
       "      <td>0.73</td>\n",
       "      <td>85.376712</td>\n",
       "      <td>1662.0</td>\n",
       "      <td>4155</td>\n",
       "    </tr>\n",
       "    <tr>\n",
       "      <th>22</th>\n",
       "      <td>B</td>\n",
       "      <td>Nov</td>\n",
       "      <td>3137</td>\n",
       "      <td>0.68</td>\n",
       "      <td>69.227941</td>\n",
       "      <td>1254.0</td>\n",
       "      <td>3137</td>\n",
       "    </tr>\n",
       "    <tr>\n",
       "      <th>23</th>\n",
       "      <td>B</td>\n",
       "      <td>Dec</td>\n",
       "      <td>4227</td>\n",
       "      <td>0.65</td>\n",
       "      <td>97.576923</td>\n",
       "      <td>1690.0</td>\n",
       "      <td>4227</td>\n",
       "    </tr>\n",
       "    <tr>\n",
       "      <th>24</th>\n",
       "      <td>C</td>\n",
       "      <td>Jan</td>\n",
       "      <td>1162</td>\n",
       "      <td>0.81</td>\n",
       "      <td>35.864198</td>\n",
       "      <td>0.0</td>\n",
       "      <td>1162</td>\n",
       "    </tr>\n",
       "    <tr>\n",
       "      <th>25</th>\n",
       "      <td>C</td>\n",
       "      <td>Feb</td>\n",
       "      <td>1967</td>\n",
       "      <td>0.76</td>\n",
       "      <td>64.703947</td>\n",
       "      <td>0.0</td>\n",
       "      <td>1967</td>\n",
       "    </tr>\n",
       "    <tr>\n",
       "      <th>26</th>\n",
       "      <td>C</td>\n",
       "      <td>Mar</td>\n",
       "      <td>1898</td>\n",
       "      <td>0.75</td>\n",
       "      <td>63.266667</td>\n",
       "      <td>0.0</td>\n",
       "      <td>1898</td>\n",
       "    </tr>\n",
       "    <tr>\n",
       "      <th>27</th>\n",
       "      <td>C</td>\n",
       "      <td>Apr</td>\n",
       "      <td>2261</td>\n",
       "      <td>0.80</td>\n",
       "      <td>70.656250</td>\n",
       "      <td>0.0</td>\n",
       "      <td>2261</td>\n",
       "    </tr>\n",
       "    <tr>\n",
       "      <th>28</th>\n",
       "      <td>C</td>\n",
       "      <td>May</td>\n",
       "      <td>2030</td>\n",
       "      <td>0.78</td>\n",
       "      <td>65.064103</td>\n",
       "      <td>0.0</td>\n",
       "      <td>2030</td>\n",
       "    </tr>\n",
       "    <tr>\n",
       "      <th>29</th>\n",
       "      <td>C</td>\n",
       "      <td>Jun</td>\n",
       "      <td>1642</td>\n",
       "      <td>0.73</td>\n",
       "      <td>56.232877</td>\n",
       "      <td>0.0</td>\n",
       "      <td>1642</td>\n",
       "    </tr>\n",
       "    <tr>\n",
       "      <th>30</th>\n",
       "      <td>C</td>\n",
       "      <td>Jul</td>\n",
       "      <td>2489</td>\n",
       "      <td>0.68</td>\n",
       "      <td>0.000000</td>\n",
       "      <td>2489.0</td>\n",
       "      <td>2489</td>\n",
       "    </tr>\n",
       "    <tr>\n",
       "      <th>31</th>\n",
       "      <td>C</td>\n",
       "      <td>Aug</td>\n",
       "      <td>2496</td>\n",
       "      <td>0.76</td>\n",
       "      <td>82.105263</td>\n",
       "      <td>0.0</td>\n",
       "      <td>2496</td>\n",
       "    </tr>\n",
       "    <tr>\n",
       "      <th>32</th>\n",
       "      <td>C</td>\n",
       "      <td>Sep</td>\n",
       "      <td>922</td>\n",
       "      <td>0.81</td>\n",
       "      <td>28.456790</td>\n",
       "      <td>0.0</td>\n",
       "      <td>922</td>\n",
       "    </tr>\n",
       "    <tr>\n",
       "      <th>33</th>\n",
       "      <td>C</td>\n",
       "      <td>Oct</td>\n",
       "      <td>2421</td>\n",
       "      <td>0.73</td>\n",
       "      <td>82.910959</td>\n",
       "      <td>0.0</td>\n",
       "      <td>2421</td>\n",
       "    </tr>\n",
       "    <tr>\n",
       "      <th>34</th>\n",
       "      <td>C</td>\n",
       "      <td>Nov</td>\n",
       "      <td>963</td>\n",
       "      <td>0.68</td>\n",
       "      <td>0.000000</td>\n",
       "      <td>963.0</td>\n",
       "      <td>963</td>\n",
       "    </tr>\n",
       "    <tr>\n",
       "      <th>35</th>\n",
       "      <td>C</td>\n",
       "      <td>Dec</td>\n",
       "      <td>1998</td>\n",
       "      <td>0.65</td>\n",
       "      <td>0.000000</td>\n",
       "      <td>1998.0</td>\n",
       "      <td>1998</td>\n",
       "    </tr>\n",
       "  </tbody>\n",
       "</table>\n",
       "</div>"
      ],
      "text/plain": [
       "   State Month  Demand  StaffAvPer         FTE  Apps_Outsorced  FTE_APP_Served\n",
       "0      A   Jan    5240        0.81  161.728395             0.0            5240\n",
       "1      A   Feb    4878        0.76  160.460526             0.0            4878\n",
       "2      A   Mar    5942        0.75  198.066667             0.0            5942\n",
       "3      A   Apr    2297        0.80   71.781250             0.0            2297\n",
       "4      A   May    1992        0.78   63.846154             0.0            1992\n",
       "5      A   Jun    2275        0.73   77.910959             0.0            2275\n",
       "6      A   Jul    5334        0.68  137.279412          1600.0            5334\n",
       "7      A   Aug    3371        0.76  110.888158             0.0            3371\n",
       "8      A   Sep    3759        0.81  116.018519             0.0            3759\n",
       "9      A   Oct    3529        0.73  120.856164             0.0            3529\n",
       "10     A   Nov    4284        0.68  110.257353          1285.0            4284\n",
       "11     A   Dec    5183        0.65  139.576923          1554.0            5183\n",
       "12     B   Jan    4927        0.81  152.067901             0.0            4927\n",
       "13     B   Feb    2628        0.76   51.875000          1051.0            2628\n",
       "14     B   Mar    2974        0.75   59.500000          1189.0            2974\n",
       "15     B   Apr    2338        0.80   73.062500             0.0            2338\n",
       "16     B   May    4020        0.78  128.846154             0.0            4020\n",
       "17     B   Jun    3147        0.73   64.691781          1258.0            3147\n",
       "18     B   Jul    4271        0.68   94.227941          1708.0            4271\n",
       "19     B   Aug    2620        0.76   51.710526          1048.0            2620\n",
       "20     B   Sep    4517        0.81  139.413580             0.0            4517\n",
       "21     B   Oct    4155        0.73   85.376712          1662.0            4155\n",
       "22     B   Nov    3137        0.68   69.227941          1254.0            3137\n",
       "23     B   Dec    4227        0.65   97.576923          1690.0            4227\n",
       "24     C   Jan    1162        0.81   35.864198             0.0            1162\n",
       "25     C   Feb    1967        0.76   64.703947             0.0            1967\n",
       "26     C   Mar    1898        0.75   63.266667             0.0            1898\n",
       "27     C   Apr    2261        0.80   70.656250             0.0            2261\n",
       "28     C   May    2030        0.78   65.064103             0.0            2030\n",
       "29     C   Jun    1642        0.73   56.232877             0.0            1642\n",
       "30     C   Jul    2489        0.68    0.000000          2489.0            2489\n",
       "31     C   Aug    2496        0.76   82.105263             0.0            2496\n",
       "32     C   Sep     922        0.81   28.456790             0.0             922\n",
       "33     C   Oct    2421        0.73   82.910959             0.0            2421\n",
       "34     C   Nov     963        0.68    0.000000           963.0             963\n",
       "35     C   Dec    1998        0.65    0.000000          1998.0            1998"
      ]
     },
     "execution_count": 568,
     "metadata": {
      "tags": []
     },
     "output_type": "execute_result"
    }
   ],
   "source": [
    "# Creating dataframe for the results\n",
    "df_result=pd.DataFrame(output,columns=['State','Month','Demand','StaffAvPer','FTE','Apps_Outsorced','FTE_APP_Served'])\n",
    "df_result\n"
   ]
  },
  {
   "cell_type": "code",
   "execution_count": 569,
   "metadata": {
    "collapsed": true,
    "executionInfo": {
     "elapsed": 81,
     "status": "ok",
     "timestamp": 1623690962532,
     "user": {
      "displayName": "Sawal Malhotra",
      "photoUrl": "",
      "userId": "07925511662157739222"
     },
     "user_tz": -330
    },
    "id": "G28HR6dl_CFf"
   },
   "outputs": [],
   "source": [
    "# Writing the results in to an Excel sheet\n",
    "\n",
    "df_result.to_excel('Result_2.xlsx',sheet_name='Result',index=False)\n"
   ]
  },
  {
   "cell_type": "markdown",
   "metadata": {
    "id": "_ujtTjZB_CFf"
   },
   "source": [
    "# Question 3\n",
    "\n",
    "#### Worst-case and best-case analysis based on the staffs' availability.\n",
    "\n",
    "Assuming that the distribution is the same across all the states,\n",
    "\n",
    "#### 3.1 Worst case analysis \n",
    "\n",
    "- 3.1.1 What is the optimal number of staff members for the worst case? \n",
    "\n",
    "- 3.1.2 What is the percentage of outsourcing for the worst case? \n",
    "\n",
    "- 3.1.3 What is the average cost per application for the worst case?\n",
    "\n",
    "\n",
    "#### 3.2 Best case analysis \n",
    "\n",
    "- 3.2.1 What is the optimal number of staff members for the best case? \n",
    "\n",
    "- 3.2.2 What is the percentage of outsourcing for the best case? \n",
    "\n",
    "- 3.2.3 What is the average cost per application for the best case?\n"
   ]
  },
  {
   "cell_type": "markdown",
   "metadata": {
    "id": "MOLNLzjV_CFf"
   },
   "source": [
    "#### Expected output:\n",
    "\n",
    "For each of the subtasks (3.1 and 3.2) create a data frame containing the number of outsourced applications and the number of FTEs for each state-month combination. You can choose to have extra columns like staff availability, demand etc. in your dataframe apart from the ones mentioned earlier. Also, print the overall average percentage of outsourced applications and the overall average cost per application. "
   ]
  },
  {
   "cell_type": "markdown",
   "metadata": {
    "id": "dbrN6LZV_CFf"
   },
   "source": [
    "### 3.1 Worst Case Analysis "
   ]
  },
  {
   "cell_type": "markdown",
   "metadata": {
    "id": "5JEZhzXE_CFf"
   },
   "source": [
    "#### 3.1.1 Optimal number of staff members"
   ]
  },
  {
   "cell_type": "code",
   "execution_count": 570,
   "metadata": {
    "collapsed": true,
    "executionInfo": {
     "elapsed": 81,
     "status": "ok",
     "timestamp": 1623690962532,
     "user": {
      "displayName": "Sawal Malhotra",
      "photoUrl": "",
      "userId": "07925511662157739222"
     },
     "user_tz": -330
    },
    "id": "e_Use4WB_CFg"
   },
   "outputs": [],
   "source": [
    "# Creating a model instance\n",
    "model=ConcreteModel()"
   ]
  },
  {
   "cell_type": "code",
   "execution_count": 571,
   "metadata": {
    "collapsed": true,
    "executionInfo": {
     "elapsed": 81,
     "status": "ok",
     "timestamp": 1623690962533,
     "user": {
      "displayName": "Sawal Malhotra",
      "photoUrl": "",
      "userId": "07925511662157739222"
     },
     "user_tz": -330
    },
    "id": "n12S9E59_IQt"
   },
   "outputs": [],
   "source": [
    "# Creating the Indexes\n",
    "\n",
    "#For Unique States\n",
    "BankLoc=Cost['State'].unique()\n",
    "#For Unique Months\n",
    "Month=Cost['Month'].unique()\n"
   ]
  },
  {
   "cell_type": "code",
   "execution_count": 572,
   "metadata": {
    "collapsed": true,
    "executionInfo": {
     "elapsed": 81,
     "status": "ok",
     "timestamp": 1623690962533,
     "user": {
      "displayName": "Sawal Malhotra",
      "photoUrl": "",
      "userId": "07925511662157739222"
     },
     "user_tz": -330
    },
    "id": "AhpcmnzM_CFg"
   },
   "outputs": [],
   "source": [
    "# Define Pyomo sets and Parameters\n",
    "\n",
    "#Defining Set for State and Months\n",
    "model.i=Set(initialize=BankLoc.tolist(),doc=\"State\")\n",
    "model.j=Set(initialize=Month.tolist(),doc=\"Months\")\n",
    "\n",
    "#Defining parameter for Demand\n",
    "Demand=MgDemandDist.set_index(['State','Month'])['Demand'].to_dict()\n",
    "\n",
    "#Defining prameter for FTE Salary\n",
    "FTE_Salary=Cost.set_index(['State','Month'])['MonthlySalary'].to_dict()\n",
    "\n",
    "#Defining parameter for Unit outsource cost\n",
    "UnitOutSourceCost=Cost.set_index(['State','Month'])['UnitOutSourceCost'].to_dict()\n",
    "\n",
    "# Number of Application served with  100% availability\n",
    "FTE_AppServeRate=transCost.iloc[0,0]\n",
    "\n",
    "#Defining parameter for Minimum Staff availability\n",
    "StaffAv_LB=StaffAv.set_index(['State','Month'])['LB'].to_dict()\n",
    "\n",
    "#Defining parameter for Maximum Staff availability\n",
    "StaffAv_UB=StaffAv.set_index(['State','Month'])['UB'].to_dict()\n",
    "\n",
    "#Defining parameter for Average Staff availability\n",
    "StaffAvPer=StaffAv.set_index(['State','Month'])['StaffAvPer'].to_dict()\n",
    "\n",
    "model.d=Param(model.i,model.j,initialize=Demand,doc='Demand')\n",
    "model.s=Param(model.i,model.j,initialize=FTE_Salary,doc='FTE_Salary')\n",
    "model.oc=Param(model.i,model.j,initialize=UnitOutSourceCost,doc='UnitOutSourceCost')\n",
    "model.lb=Param(model.i,model.j,initialize=StaffAv_LB,doc='StaffAv_LB')\n",
    "\n",
    "#Scalar Application Service rate when 100% working\n",
    "model.r=Param(initialize=FTE_AppServeRate,doc='FTE_AppServeRate')\n",
    "\n",
    "\n",
    "#Paramter for no of application that can be processed for given staff availability\n",
    "def c_FTEAPP(model,i,j):\n",
    "  return model.r* model.lb[i,j]\n",
    "\n",
    "model.FTEAPPNO=Param(model.i,model.j,initialize=c_FTEAPP,doc='No of FTE APP')\n",
    "\n",
    "# Prameter for Regulatory restriction for STate A\n",
    "def Reg_A(model,i,j):\n",
    "  return 0.30*model.d[i,j]\n",
    "\n",
    "model.Reg_A=Param(model.i,model.j,initialize=Reg_A,doc='RegRest_A')\n",
    "\n",
    "# Prameter for Regulatory restriction for STate B\n",
    "def Reg_B(model,i,j):\n",
    "  return 0.40*model.d[i,j]\n",
    "\n",
    "model.Reg_B=Param(model.i,model.j,initialize=Reg_B,doc='RegRest_B')\n"
   ]
  },
  {
   "cell_type": "code",
   "execution_count": 573,
   "metadata": {
    "collapsed": true,
    "executionInfo": {
     "elapsed": 81,
     "status": "ok",
     "timestamp": 1623690962534,
     "user": {
      "displayName": "Sawal Malhotra",
      "photoUrl": "",
      "userId": "07925511662157739222"
     },
     "user_tz": -330
    },
    "id": "TbnRiC4z_CFg"
   },
   "outputs": [],
   "source": [
    "# Decision variables\n",
    "\n",
    "model.x= Var(model.i,model.j,domain=NonNegativeReals,doc='No of FTE')\n",
    "model.y= Var(model.i,model.j,domain=NonNegativeReals,doc='No of Outsorced Apps')"
   ]
  },
  {
   "cell_type": "code",
   "execution_count": 574,
   "metadata": {
    "collapsed": true,
    "executionInfo": {
     "elapsed": 81,
     "status": "ok",
     "timestamp": 1623690962534,
     "user": {
      "displayName": "Sawal Malhotra",
      "photoUrl": "",
      "userId": "07925511662157739222"
     },
     "user_tz": -330
    },
    "id": "9MvW3pyz_CFg"
   },
   "outputs": [],
   "source": [
    "# Constraints\n",
    "\n",
    "# Demand Constraint\n",
    "model.demand_constraint=ConstraintList()\n",
    "for i in model.i:\n",
    "  for j in model.j:\n",
    "    model.demand_constraint.add(expr=model.x[i,j]*model.FTEAPPNO[i,j] + model.y[i,j]==model.d[i,j])\n",
    "\n",
    "#Regulatory constraint\n",
    "model.regulatory_constraint=ConstraintList()\n",
    "for i in model.i:\n",
    "  for j in model.j:\n",
    "    if i =='A':\n",
    "      model.regulatory_constraint.add(expr= model.y['A',j] <=model.Reg_A['A',j])\n",
    "    elif i=='B':\n",
    "      model.regulatory_constraint.add(expr= model.y['B',j] <=model.Reg_B['B',j])"
   ]
  },
  {
   "cell_type": "code",
   "execution_count": 575,
   "metadata": {
    "collapsed": true,
    "executionInfo": {
     "elapsed": 81,
     "status": "ok",
     "timestamp": 1623690962535,
     "user": {
      "displayName": "Sawal Malhotra",
      "photoUrl": "",
      "userId": "07925511662157739222"
     },
     "user_tz": -330
    },
    "id": "XQrDePhv_CFg"
   },
   "outputs": [],
   "source": [
    "# Objective function\n",
    "\n",
    "#Mininmize cost\n",
    "def objective_rule(model):\n",
    "  return sum(model.x[i,j]*model.s[i,j] for i in model.i for j in model.j) + sum(model.y[i,j]*model.oc[i,j] for i in  model.i for j in model.j)\n",
    "\n",
    "model.objective=Objective(rule=objective_rule, sense=minimize,doc='Define Objective Function')"
   ]
  },
  {
   "cell_type": "code",
   "execution_count": 576,
   "metadata": {
    "colab": {
     "base_uri": "https://localhost:8080/"
    },
    "collapsed": true,
    "executionInfo": {
     "elapsed": 81,
     "status": "ok",
     "timestamp": 1623690962535,
     "user": {
      "displayName": "Sawal Malhotra",
      "photoUrl": "",
      "userId": "07925511662157739222"
     },
     "user_tz": -330
    },
    "id": "9gP53Fo3_CFg",
    "outputId": "7df5b891-9158-48cc-ccd5-9ff01ea242ae"
   },
   "outputs": [
    {
     "name": "stdout",
     "output_type": "stream",
     "text": [
      "# ==========================================================\n",
      "# = Solver Results                                         =\n",
      "# ==========================================================\n",
      "# ----------------------------------------------------------\n",
      "#   Problem Information\n",
      "# ----------------------------------------------------------\n",
      "Problem: \n",
      "- Name: unknown\n",
      "  Lower bound: 19599283.3977411\n",
      "  Upper bound: 19599283.3977411\n",
      "  Number of objectives: 1\n",
      "  Number of constraints: 61\n",
      "  Number of variables: 73\n",
      "  Number of nonzeros: 97\n",
      "  Sense: minimize\n",
      "# ----------------------------------------------------------\n",
      "#   Solver Information\n",
      "# ----------------------------------------------------------\n",
      "Solver: \n",
      "- Status: ok\n",
      "  Termination condition: optimal\n",
      "  Statistics: \n",
      "    Branch and bound: \n",
      "      Number of bounded subproblems: 0\n",
      "      Number of created subproblems: 0\n",
      "  Error rc: 0\n",
      "  Time: 0.019633769989013672\n",
      "# ----------------------------------------------------------\n",
      "#   Solution Information\n",
      "# ----------------------------------------------------------\n",
      "Solution: \n",
      "- number of solutions: 0\n",
      "  number of solutions displayed: 0\n"
     ]
    }
   ],
   "source": [
    "# Invoking the solver\n",
    "\n",
    "result_cost=SolverFactory('glpk').solve(model)\n",
    "result_cost.write()"
   ]
  },
  {
   "cell_type": "code",
   "execution_count": 577,
   "metadata": {
    "colab": {
     "base_uri": "https://localhost:8080/"
    },
    "collapsed": true,
    "executionInfo": {
     "elapsed": 77,
     "status": "ok",
     "timestamp": 1623690962536,
     "user": {
      "displayName": "Sawal Malhotra",
      "photoUrl": "",
      "userId": "07925511662157739222"
     },
     "user_tz": -330
    },
    "id": "lhu9sFIp_CFh",
    "outputId": "2fd6ec41-1eb0-4907-84ac-1f853fc37cc0"
   },
   "outputs": [
    {
     "data": {
      "text/plain": [
       "19599283.397741143"
      ]
     },
     "execution_count": 577,
     "metadata": {
      "tags": []
     },
     "output_type": "execute_result"
    }
   ],
   "source": [
    "# Print the value of the objective function\n",
    "TotalCost_LB=model.objective.expr()\n",
    "TotalCost_LB"
   ]
  },
  {
   "cell_type": "markdown",
   "metadata": {
    "id": "6tb_86-0_CFh"
   },
   "source": [
    "**`Checkpoint 2:`** The company has to spend around 19.6 m$ in total for the application approval process if the staffs are working with the minimum availability."
   ]
  },
  {
   "cell_type": "code",
   "execution_count": 578,
   "metadata": {
    "collapsed": true,
    "executionInfo": {
     "elapsed": 23,
     "status": "ok",
     "timestamp": 1623690962536,
     "user": {
      "displayName": "Sawal Malhotra",
      "photoUrl": "",
      "userId": "07925511662157739222"
     },
     "user_tz": -330
    },
    "id": "D8d9LpCd_CFh"
   },
   "outputs": [],
   "source": [
    "#Calculating the Result in Column format\n",
    "output=[]\n",
    "\n",
    "for i in model.i:\n",
    "  for j in model.j:\n",
    "    No_Of_FTE=model.x[i,j].value\n",
    "    No_of_OutsorcedApps=model.y[i,j].value\n",
    "    Demand=model.d[i,j]\n",
    "    LB=model.lb[i,j]\n",
    "    output.append([i,j,Demand,LB,No_Of_FTE,No_of_OutsorcedApps,Demand])\n"
   ]
  },
  {
   "cell_type": "code",
   "execution_count": 579,
   "metadata": {
    "colab": {
     "base_uri": "https://localhost:8080/",
     "height": 1000
    },
    "collapsed": true,
    "executionInfo": {
     "elapsed": 38,
     "status": "ok",
     "timestamp": 1623690963255,
     "user": {
      "displayName": "Sawal Malhotra",
      "photoUrl": "",
      "userId": "07925511662157739222"
     },
     "user_tz": -330
    },
    "id": "oDjmIkUyFI9W",
    "outputId": "86cd5746-4a4d-448f-9233-056204b9e340"
   },
   "outputs": [
    {
     "data": {
      "text/html": [
       "<div>\n",
       "<style scoped>\n",
       "    .dataframe tbody tr th:only-of-type {\n",
       "        vertical-align: middle;\n",
       "    }\n",
       "\n",
       "    .dataframe tbody tr th {\n",
       "        vertical-align: top;\n",
       "    }\n",
       "\n",
       "    .dataframe thead th {\n",
       "        text-align: right;\n",
       "    }\n",
       "</style>\n",
       "<table border=\"1\" class=\"dataframe\">\n",
       "  <thead>\n",
       "    <tr style=\"text-align: right;\">\n",
       "      <th></th>\n",
       "      <th>State</th>\n",
       "      <th>Month</th>\n",
       "      <th>Demand</th>\n",
       "      <th>LB</th>\n",
       "      <th>FTE</th>\n",
       "      <th>Apps_Outsorced</th>\n",
       "      <th>FTE_APP_Served</th>\n",
       "    </tr>\n",
       "  </thead>\n",
       "  <tbody>\n",
       "    <tr>\n",
       "      <th>0</th>\n",
       "      <td>A</td>\n",
       "      <td>Jan</td>\n",
       "      <td>5240</td>\n",
       "      <td>0.70</td>\n",
       "      <td>187.142857</td>\n",
       "      <td>0.0</td>\n",
       "      <td>5240</td>\n",
       "    </tr>\n",
       "    <tr>\n",
       "      <th>1</th>\n",
       "      <td>A</td>\n",
       "      <td>Feb</td>\n",
       "      <td>4878</td>\n",
       "      <td>0.65</td>\n",
       "      <td>131.330769</td>\n",
       "      <td>1463.4</td>\n",
       "      <td>4878</td>\n",
       "    </tr>\n",
       "    <tr>\n",
       "      <th>2</th>\n",
       "      <td>A</td>\n",
       "      <td>Mar</td>\n",
       "      <td>5942</td>\n",
       "      <td>0.70</td>\n",
       "      <td>212.214286</td>\n",
       "      <td>0.0</td>\n",
       "      <td>5942</td>\n",
       "    </tr>\n",
       "    <tr>\n",
       "      <th>3</th>\n",
       "      <td>A</td>\n",
       "      <td>Apr</td>\n",
       "      <td>2297</td>\n",
       "      <td>0.75</td>\n",
       "      <td>76.566667</td>\n",
       "      <td>0.0</td>\n",
       "      <td>2297</td>\n",
       "    </tr>\n",
       "    <tr>\n",
       "      <th>4</th>\n",
       "      <td>A</td>\n",
       "      <td>May</td>\n",
       "      <td>1992</td>\n",
       "      <td>0.70</td>\n",
       "      <td>71.142857</td>\n",
       "      <td>0.0</td>\n",
       "      <td>1992</td>\n",
       "    </tr>\n",
       "    <tr>\n",
       "      <th>5</th>\n",
       "      <td>A</td>\n",
       "      <td>Jun</td>\n",
       "      <td>2275</td>\n",
       "      <td>0.65</td>\n",
       "      <td>61.250000</td>\n",
       "      <td>682.5</td>\n",
       "      <td>2275</td>\n",
       "    </tr>\n",
       "    <tr>\n",
       "      <th>6</th>\n",
       "      <td>A</td>\n",
       "      <td>Jul</td>\n",
       "      <td>5334</td>\n",
       "      <td>0.60</td>\n",
       "      <td>155.575000</td>\n",
       "      <td>1600.2</td>\n",
       "      <td>5334</td>\n",
       "    </tr>\n",
       "    <tr>\n",
       "      <th>7</th>\n",
       "      <td>A</td>\n",
       "      <td>Aug</td>\n",
       "      <td>3371</td>\n",
       "      <td>0.65</td>\n",
       "      <td>90.757692</td>\n",
       "      <td>1011.3</td>\n",
       "      <td>3371</td>\n",
       "    </tr>\n",
       "    <tr>\n",
       "      <th>8</th>\n",
       "      <td>A</td>\n",
       "      <td>Sep</td>\n",
       "      <td>3759</td>\n",
       "      <td>0.70</td>\n",
       "      <td>134.250000</td>\n",
       "      <td>0.0</td>\n",
       "      <td>3759</td>\n",
       "    </tr>\n",
       "    <tr>\n",
       "      <th>9</th>\n",
       "      <td>A</td>\n",
       "      <td>Oct</td>\n",
       "      <td>3529</td>\n",
       "      <td>0.65</td>\n",
       "      <td>95.011538</td>\n",
       "      <td>1058.7</td>\n",
       "      <td>3529</td>\n",
       "    </tr>\n",
       "    <tr>\n",
       "      <th>10</th>\n",
       "      <td>A</td>\n",
       "      <td>Nov</td>\n",
       "      <td>4284</td>\n",
       "      <td>0.60</td>\n",
       "      <td>124.950000</td>\n",
       "      <td>1285.2</td>\n",
       "      <td>4284</td>\n",
       "    </tr>\n",
       "    <tr>\n",
       "      <th>11</th>\n",
       "      <td>A</td>\n",
       "      <td>Dec</td>\n",
       "      <td>5183</td>\n",
       "      <td>0.60</td>\n",
       "      <td>151.170833</td>\n",
       "      <td>1554.9</td>\n",
       "      <td>5183</td>\n",
       "    </tr>\n",
       "    <tr>\n",
       "      <th>12</th>\n",
       "      <td>B</td>\n",
       "      <td>Jan</td>\n",
       "      <td>4927</td>\n",
       "      <td>0.70</td>\n",
       "      <td>105.578571</td>\n",
       "      <td>1970.8</td>\n",
       "      <td>4927</td>\n",
       "    </tr>\n",
       "    <tr>\n",
       "      <th>13</th>\n",
       "      <td>B</td>\n",
       "      <td>Feb</td>\n",
       "      <td>2628</td>\n",
       "      <td>0.65</td>\n",
       "      <td>60.646154</td>\n",
       "      <td>1051.2</td>\n",
       "      <td>2628</td>\n",
       "    </tr>\n",
       "    <tr>\n",
       "      <th>14</th>\n",
       "      <td>B</td>\n",
       "      <td>Mar</td>\n",
       "      <td>2974</td>\n",
       "      <td>0.70</td>\n",
       "      <td>63.728571</td>\n",
       "      <td>1189.6</td>\n",
       "      <td>2974</td>\n",
       "    </tr>\n",
       "    <tr>\n",
       "      <th>15</th>\n",
       "      <td>B</td>\n",
       "      <td>Apr</td>\n",
       "      <td>2338</td>\n",
       "      <td>0.75</td>\n",
       "      <td>46.760000</td>\n",
       "      <td>935.2</td>\n",
       "      <td>2338</td>\n",
       "    </tr>\n",
       "    <tr>\n",
       "      <th>16</th>\n",
       "      <td>B</td>\n",
       "      <td>May</td>\n",
       "      <td>4020</td>\n",
       "      <td>0.70</td>\n",
       "      <td>86.142857</td>\n",
       "      <td>1608.0</td>\n",
       "      <td>4020</td>\n",
       "    </tr>\n",
       "    <tr>\n",
       "      <th>17</th>\n",
       "      <td>B</td>\n",
       "      <td>Jun</td>\n",
       "      <td>3147</td>\n",
       "      <td>0.65</td>\n",
       "      <td>72.623077</td>\n",
       "      <td>1258.8</td>\n",
       "      <td>3147</td>\n",
       "    </tr>\n",
       "    <tr>\n",
       "      <th>18</th>\n",
       "      <td>B</td>\n",
       "      <td>Jul</td>\n",
       "      <td>4271</td>\n",
       "      <td>0.60</td>\n",
       "      <td>106.775000</td>\n",
       "      <td>1708.4</td>\n",
       "      <td>4271</td>\n",
       "    </tr>\n",
       "    <tr>\n",
       "      <th>19</th>\n",
       "      <td>B</td>\n",
       "      <td>Aug</td>\n",
       "      <td>2620</td>\n",
       "      <td>0.65</td>\n",
       "      <td>60.461538</td>\n",
       "      <td>1048.0</td>\n",
       "      <td>2620</td>\n",
       "    </tr>\n",
       "    <tr>\n",
       "      <th>20</th>\n",
       "      <td>B</td>\n",
       "      <td>Sep</td>\n",
       "      <td>4517</td>\n",
       "      <td>0.70</td>\n",
       "      <td>96.792857</td>\n",
       "      <td>1806.8</td>\n",
       "      <td>4517</td>\n",
       "    </tr>\n",
       "    <tr>\n",
       "      <th>21</th>\n",
       "      <td>B</td>\n",
       "      <td>Oct</td>\n",
       "      <td>4155</td>\n",
       "      <td>0.65</td>\n",
       "      <td>95.884615</td>\n",
       "      <td>1662.0</td>\n",
       "      <td>4155</td>\n",
       "    </tr>\n",
       "    <tr>\n",
       "      <th>22</th>\n",
       "      <td>B</td>\n",
       "      <td>Nov</td>\n",
       "      <td>3137</td>\n",
       "      <td>0.60</td>\n",
       "      <td>78.425000</td>\n",
       "      <td>1254.8</td>\n",
       "      <td>3137</td>\n",
       "    </tr>\n",
       "    <tr>\n",
       "      <th>23</th>\n",
       "      <td>B</td>\n",
       "      <td>Dec</td>\n",
       "      <td>4227</td>\n",
       "      <td>0.60</td>\n",
       "      <td>105.675000</td>\n",
       "      <td>1690.8</td>\n",
       "      <td>4227</td>\n",
       "    </tr>\n",
       "    <tr>\n",
       "      <th>24</th>\n",
       "      <td>C</td>\n",
       "      <td>Jan</td>\n",
       "      <td>1162</td>\n",
       "      <td>0.70</td>\n",
       "      <td>41.500000</td>\n",
       "      <td>0.0</td>\n",
       "      <td>1162</td>\n",
       "    </tr>\n",
       "    <tr>\n",
       "      <th>25</th>\n",
       "      <td>C</td>\n",
       "      <td>Feb</td>\n",
       "      <td>1967</td>\n",
       "      <td>0.65</td>\n",
       "      <td>0.000000</td>\n",
       "      <td>1967.0</td>\n",
       "      <td>1967</td>\n",
       "    </tr>\n",
       "    <tr>\n",
       "      <th>26</th>\n",
       "      <td>C</td>\n",
       "      <td>Mar</td>\n",
       "      <td>1898</td>\n",
       "      <td>0.70</td>\n",
       "      <td>67.785714</td>\n",
       "      <td>0.0</td>\n",
       "      <td>1898</td>\n",
       "    </tr>\n",
       "    <tr>\n",
       "      <th>27</th>\n",
       "      <td>C</td>\n",
       "      <td>Apr</td>\n",
       "      <td>2261</td>\n",
       "      <td>0.75</td>\n",
       "      <td>75.366667</td>\n",
       "      <td>0.0</td>\n",
       "      <td>2261</td>\n",
       "    </tr>\n",
       "    <tr>\n",
       "      <th>28</th>\n",
       "      <td>C</td>\n",
       "      <td>May</td>\n",
       "      <td>2030</td>\n",
       "      <td>0.70</td>\n",
       "      <td>72.500000</td>\n",
       "      <td>0.0</td>\n",
       "      <td>2030</td>\n",
       "    </tr>\n",
       "    <tr>\n",
       "      <th>29</th>\n",
       "      <td>C</td>\n",
       "      <td>Jun</td>\n",
       "      <td>1642</td>\n",
       "      <td>0.65</td>\n",
       "      <td>0.000000</td>\n",
       "      <td>1642.0</td>\n",
       "      <td>1642</td>\n",
       "    </tr>\n",
       "    <tr>\n",
       "      <th>30</th>\n",
       "      <td>C</td>\n",
       "      <td>Jul</td>\n",
       "      <td>2489</td>\n",
       "      <td>0.60</td>\n",
       "      <td>0.000000</td>\n",
       "      <td>2489.0</td>\n",
       "      <td>2489</td>\n",
       "    </tr>\n",
       "    <tr>\n",
       "      <th>31</th>\n",
       "      <td>C</td>\n",
       "      <td>Aug</td>\n",
       "      <td>2496</td>\n",
       "      <td>0.65</td>\n",
       "      <td>0.000000</td>\n",
       "      <td>2496.0</td>\n",
       "      <td>2496</td>\n",
       "    </tr>\n",
       "    <tr>\n",
       "      <th>32</th>\n",
       "      <td>C</td>\n",
       "      <td>Sep</td>\n",
       "      <td>922</td>\n",
       "      <td>0.70</td>\n",
       "      <td>32.928571</td>\n",
       "      <td>0.0</td>\n",
       "      <td>922</td>\n",
       "    </tr>\n",
       "    <tr>\n",
       "      <th>33</th>\n",
       "      <td>C</td>\n",
       "      <td>Oct</td>\n",
       "      <td>2421</td>\n",
       "      <td>0.65</td>\n",
       "      <td>0.000000</td>\n",
       "      <td>2421.0</td>\n",
       "      <td>2421</td>\n",
       "    </tr>\n",
       "    <tr>\n",
       "      <th>34</th>\n",
       "      <td>C</td>\n",
       "      <td>Nov</td>\n",
       "      <td>963</td>\n",
       "      <td>0.60</td>\n",
       "      <td>0.000000</td>\n",
       "      <td>963.0</td>\n",
       "      <td>963</td>\n",
       "    </tr>\n",
       "    <tr>\n",
       "      <th>35</th>\n",
       "      <td>C</td>\n",
       "      <td>Dec</td>\n",
       "      <td>1998</td>\n",
       "      <td>0.60</td>\n",
       "      <td>0.000000</td>\n",
       "      <td>1998.0</td>\n",
       "      <td>1998</td>\n",
       "    </tr>\n",
       "  </tbody>\n",
       "</table>\n",
       "</div>"
      ],
      "text/plain": [
       "   State Month  Demand    LB         FTE  Apps_Outsorced  FTE_APP_Served\n",
       "0      A   Jan    5240  0.70  187.142857             0.0            5240\n",
       "1      A   Feb    4878  0.65  131.330769          1463.4            4878\n",
       "2      A   Mar    5942  0.70  212.214286             0.0            5942\n",
       "3      A   Apr    2297  0.75   76.566667             0.0            2297\n",
       "4      A   May    1992  0.70   71.142857             0.0            1992\n",
       "5      A   Jun    2275  0.65   61.250000           682.5            2275\n",
       "6      A   Jul    5334  0.60  155.575000          1600.2            5334\n",
       "7      A   Aug    3371  0.65   90.757692          1011.3            3371\n",
       "8      A   Sep    3759  0.70  134.250000             0.0            3759\n",
       "9      A   Oct    3529  0.65   95.011538          1058.7            3529\n",
       "10     A   Nov    4284  0.60  124.950000          1285.2            4284\n",
       "11     A   Dec    5183  0.60  151.170833          1554.9            5183\n",
       "12     B   Jan    4927  0.70  105.578571          1970.8            4927\n",
       "13     B   Feb    2628  0.65   60.646154          1051.2            2628\n",
       "14     B   Mar    2974  0.70   63.728571          1189.6            2974\n",
       "15     B   Apr    2338  0.75   46.760000           935.2            2338\n",
       "16     B   May    4020  0.70   86.142857          1608.0            4020\n",
       "17     B   Jun    3147  0.65   72.623077          1258.8            3147\n",
       "18     B   Jul    4271  0.60  106.775000          1708.4            4271\n",
       "19     B   Aug    2620  0.65   60.461538          1048.0            2620\n",
       "20     B   Sep    4517  0.70   96.792857          1806.8            4517\n",
       "21     B   Oct    4155  0.65   95.884615          1662.0            4155\n",
       "22     B   Nov    3137  0.60   78.425000          1254.8            3137\n",
       "23     B   Dec    4227  0.60  105.675000          1690.8            4227\n",
       "24     C   Jan    1162  0.70   41.500000             0.0            1162\n",
       "25     C   Feb    1967  0.65    0.000000          1967.0            1967\n",
       "26     C   Mar    1898  0.70   67.785714             0.0            1898\n",
       "27     C   Apr    2261  0.75   75.366667             0.0            2261\n",
       "28     C   May    2030  0.70   72.500000             0.0            2030\n",
       "29     C   Jun    1642  0.65    0.000000          1642.0            1642\n",
       "30     C   Jul    2489  0.60    0.000000          2489.0            2489\n",
       "31     C   Aug    2496  0.65    0.000000          2496.0            2496\n",
       "32     C   Sep     922  0.70   32.928571             0.0             922\n",
       "33     C   Oct    2421  0.65    0.000000          2421.0            2421\n",
       "34     C   Nov     963  0.60    0.000000           963.0             963\n",
       "35     C   Dec    1998  0.60    0.000000          1998.0            1998"
      ]
     },
     "execution_count": 579,
     "metadata": {
      "tags": []
     },
     "output_type": "execute_result"
    }
   ],
   "source": [
    "# Creating dataframe for the results\n",
    "df_result=pd.DataFrame(output,columns=['State','Month','Demand','LB','FTE','Apps_Outsorced','FTE_APP_Served'])\n",
    "df_result"
   ]
  },
  {
   "cell_type": "code",
   "execution_count": 580,
   "metadata": {
    "collapsed": true,
    "executionInfo": {
     "elapsed": 37,
     "status": "ok",
     "timestamp": 1623690963256,
     "user": {
      "displayName": "Sawal Malhotra",
      "photoUrl": "",
      "userId": "07925511662157739222"
     },
     "user_tz": -330
    },
    "id": "6jf0orwVYGEG"
   },
   "outputs": [],
   "source": [
    "# Writing the results in to an Excel sheet\n",
    "\n",
    "df_result.to_excel('Result_3.xlsx',sheet_name='Result',index=False)"
   ]
  },
  {
   "cell_type": "markdown",
   "metadata": {
    "id": "vJ5Gb8wO_CFi"
   },
   "source": [
    "#### 3.1.2 Percentage of outsourced applications "
   ]
  },
  {
   "cell_type": "code",
   "execution_count": 581,
   "metadata": {
    "colab": {
     "base_uri": "https://localhost:8080/"
    },
    "collapsed": true,
    "executionInfo": {
     "elapsed": 37,
     "status": "ok",
     "timestamp": 1623690963256,
     "user": {
      "displayName": "Sawal Malhotra",
      "photoUrl": "",
      "userId": "07925511662157739222"
     },
     "user_tz": -330
    },
    "id": "I-XUnlwZ_CFi",
    "outputId": "078a1fc5-ce13-4b04-e7d6-e08d64e18991"
   },
   "outputs": [
    {
     "name": "stdout",
     "output_type": "stream",
     "text": [
      "39816.600000000006\n"
     ]
    }
   ],
   "source": [
    "#Total no of Outsorced applicants actual\n",
    "noOutSource=0\n",
    "for i in model.i:\n",
    "  for j in model.j:\n",
    "    noOutSource=noOutSource+model.y[i,j].value\n",
    "print(noOutSource)\n"
   ]
  },
  {
   "cell_type": "code",
   "execution_count": 582,
   "metadata": {
    "colab": {
     "base_uri": "https://localhost:8080/"
    },
    "collapsed": true,
    "executionInfo": {
     "elapsed": 34,
     "status": "ok",
     "timestamp": 1623690963257,
     "user": {
      "displayName": "Sawal Malhotra",
      "photoUrl": "",
      "userId": "07925511662157739222"
     },
     "user_tz": -330
    },
    "id": "5nZ2WLFivqYq",
    "outputId": "6546a371-4e05-47c1-a8c0-0deaf48e11c6"
   },
   "outputs": [
    {
     "name": "stdout",
     "output_type": "stream",
     "text": [
      "18.314297314950483\n"
     ]
    }
   ],
   "source": [
    "#Total no of applications Demand\n",
    "TotalApplDemand=MgDemandDist['Demand'].sum()\n",
    "\n",
    "#Percentage of Outsorced applictns\n",
    "PercentageOutSourced=(s/TotalApplDemand)*100\n",
    "print(PercentageOutSourced)"
   ]
  },
  {
   "cell_type": "markdown",
   "metadata": {
    "id": "EZGCf4_K_CFi"
   },
   "source": [
    "#### 3.1.3 Average cost per application"
   ]
  },
  {
   "cell_type": "code",
   "execution_count": 583,
   "metadata": {
    "colab": {
     "base_uri": "https://localhost:8080/"
    },
    "collapsed": true,
    "executionInfo": {
     "elapsed": 31,
     "status": "ok",
     "timestamp": 1623690963257,
     "user": {
      "displayName": "Sawal Malhotra",
      "photoUrl": "",
      "userId": "07925511662157739222"
     },
     "user_tz": -330
    },
    "id": "ryfSE9pM_CFi",
    "outputId": "d3df3469-6b15-442e-855e-3239ebd6dc94"
   },
   "outputs": [
    {
     "name": "stdout",
     "output_type": "stream",
     "text": [
      "Averge cost per Application in Case of Minimum(LB) Staff availability is : 172.9948929134918\n"
     ]
    }
   ],
   "source": [
    "# write your code here\n",
    "\n",
    "print('Averge cost per Application in Case of Minimum(LB) Staff availability is :',TotalCost_LB/TotalApplDemand)"
   ]
  },
  {
   "cell_type": "markdown",
   "metadata": {
    "id": "gz2shl3I_CFi"
   },
   "source": [
    "### 3.2  Best Case Analysis "
   ]
  },
  {
   "cell_type": "markdown",
   "metadata": {
    "id": "GsInDN0d_CFj"
   },
   "source": [
    "#### 3.2.1 Optimal number of staff members\n"
   ]
  },
  {
   "cell_type": "code",
   "execution_count": 584,
   "metadata": {
    "collapsed": true,
    "executionInfo": {
     "elapsed": 30,
     "status": "ok",
     "timestamp": 1623690963258,
     "user": {
      "displayName": "Sawal Malhotra",
      "photoUrl": "",
      "userId": "07925511662157739222"
     },
     "user_tz": -330
    },
    "id": "prUei5Fk_CFj"
   },
   "outputs": [],
   "source": [
    "# Creating a model instance\n",
    "\n",
    "model=ConcreteModel()"
   ]
  },
  {
   "cell_type": "code",
   "execution_count": 585,
   "metadata": {
    "collapsed": true,
    "executionInfo": {
     "elapsed": 29,
     "status": "ok",
     "timestamp": 1623690963258,
     "user": {
      "displayName": "Sawal Malhotra",
      "photoUrl": "",
      "userId": "07925511662157739222"
     },
     "user_tz": -330
    },
    "id": "f-FMvJQ2BZz2"
   },
   "outputs": [],
   "source": [
    "# Creating the Indexes\n",
    "#For Unique ank locations\n",
    "BankLoc=Cost['State'].unique()\n",
    "#For Unique Months\n",
    "Month=Cost['Month'].unique()"
   ]
  },
  {
   "cell_type": "code",
   "execution_count": 586,
   "metadata": {
    "collapsed": true,
    "executionInfo": {
     "elapsed": 30,
     "status": "ok",
     "timestamp": 1623690963259,
     "user": {
      "displayName": "Sawal Malhotra",
      "photoUrl": "",
      "userId": "07925511662157739222"
     },
     "user_tz": -330
    },
    "id": "WkCsZKUH_CFj"
   },
   "outputs": [],
   "source": [
    "# Define Pyomo sets and Parameters\n",
    "\n",
    "#Defining Set for State and Months\n",
    "model.i=Set(initialize=BankLoc.tolist(),doc=\"State\")\n",
    "model.j=Set(initialize=Month.tolist(),doc=\"Months\")\n",
    "\n",
    "MgDemandDist=pd.read_excel(\"Staffing+Data.xlsx\", sheet_name='DemandData')\n",
    "StaffAv=pd.read_excel(\"Staffing+Data.xlsx\",sheet_name='StaffAvailability')\n",
    "Cost=pd.read_excel(\"Staffing+Data.xlsx\",sheet_name='Cost')\n",
    "transCost=pd.read_excel(\"Staffing+Data.xlsx\",sheet_name='ServiceRate')\n",
    "\n",
    "\n",
    "#Defining parameter for Demand\n",
    "Demand=MgDemandDist.set_index(['State','Month'])['Demand'].to_dict()\n",
    "\n",
    "#Defining prameter for FTE Salary\n",
    "FTE_Salary=Cost.set_index(['State','Month'])['MonthlySalary'].to_dict()\n",
    "\n",
    "#Defining parameter for Unit outsource cost\n",
    "UnitOutSourceCost=Cost.set_index(['State','Month'])['UnitOutSourceCost'].to_dict()\n",
    "\n",
    "# Number of Application served with  100% availability\n",
    "FTE_AppServeRate=transCost.iloc[0,0]\n",
    "\n",
    "#Defining parameter for Minimum Staff availability\n",
    "StaffAv_LB=StaffAv.set_index(['State','Month'])['LB'].to_dict()\n",
    "\n",
    "#Defining parameter for Maximum Staff availability\n",
    "StaffAv_UB=StaffAv.set_index(['State','Month'])['UB'].to_dict()\n",
    "\n",
    "#Defining parameter for Average Staff availability\n",
    "StaffAvPer=StaffAv.set_index(['State','Month'])['StaffAvPer'].to_dict()\n",
    "\n",
    "model.d=Param(model.i,model.j,initialize=Demand,doc='Demand')\n",
    "model.s=Param(model.i,model.j,initialize=FTE_Salary,doc='FTE_Salary')\n",
    "model.oc=Param(model.i,model.j,initialize=UnitOutSourceCost,doc='UnitOutSourceCost')\n",
    "model.ub=Param(model.i,model.j,initialize=StaffAv_UB,doc='StaffAv_UB')\n",
    "\n",
    "#Scalar Application Service rate when 100% working\n",
    "model.r=Param(initialize=FTE_AppServeRate,doc='FTE_AppServeRate')\n",
    "\n",
    "#Paramter for no of application that can be processed for given staff availability\n",
    "def c_FTEAPP(model,i,j):\n",
    "  return model.r* model.ub[i,j]\n",
    "\n",
    "model.FTEAPPNO=Param(model.i,model.j,initialize=c_FTEAPP,doc='No of FTE APP')\n",
    "\n",
    "# Prameter for Regulatory restriction for STate A\n",
    "def Reg_A(model,i,j):\n",
    "  return 0.30*model.d[i,j]\n",
    "\n",
    "model.Reg_A=Param(model.i,model.j,initialize=Reg_A,doc='RegRest_A')\n",
    "\n",
    "# Prameter for Regulatory restriction for STate B\n",
    "def Reg_B(model,i,j):\n",
    "  return 0.40*model.d[i,j]\n",
    "\n",
    "model.Reg_B=Param(model.i,model.j,initialize=Reg_B,doc='RegRest_B')"
   ]
  },
  {
   "cell_type": "code",
   "execution_count": 587,
   "metadata": {
    "collapsed": true,
    "executionInfo": {
     "elapsed": 31,
     "status": "ok",
     "timestamp": 1623690963260,
     "user": {
      "displayName": "Sawal Malhotra",
      "photoUrl": "",
      "userId": "07925511662157739222"
     },
     "user_tz": -330
    },
    "id": "990XPIsx_CFj"
   },
   "outputs": [],
   "source": [
    "# Decision variables\n",
    "model.x= Var(model.i,model.j,domain=NonNegativeReals,doc='No of FTE')\n",
    "model.y= Var(model.i,model.j,domain=NonNegativeReals,doc='No of Outsorced Apps')"
   ]
  },
  {
   "cell_type": "code",
   "execution_count": 588,
   "metadata": {
    "collapsed": true,
    "executionInfo": {
     "elapsed": 36,
     "status": "ok",
     "timestamp": 1623690963266,
     "user": {
      "displayName": "Sawal Malhotra",
      "photoUrl": "",
      "userId": "07925511662157739222"
     },
     "user_tz": -330
    },
    "id": "JFbJf9Rh_CFj"
   },
   "outputs": [],
   "source": [
    "# Constraints\n",
    "\n",
    "# Demand Constraint\n",
    "model.demand_constraint=ConstraintList()\n",
    "for i in model.i:\n",
    "  for j in model.j:\n",
    "    model.demand_constraint.add(expr=model.x[i,j]*model.FTEAPPNO[i,j] + model.y[i,j]==model.d[i,j])\n",
    "\n",
    "\n",
    "\n",
    "#Regulatory constraint\n",
    "model.regulatory_constraint=ConstraintList()\n",
    "for i in model.i:\n",
    "  for j in model.j:\n",
    "    if i =='A':\n",
    "      model.regulatory_constraint.add(expr= model.y['A',j] <=model.Reg_A['A',j])\n",
    "    elif i=='B':\n",
    "      model.regulatory_constraint.add(expr= model.y['B',j] <=model.Reg_B['B',j])\n"
   ]
  },
  {
   "cell_type": "code",
   "execution_count": 589,
   "metadata": {
    "collapsed": true,
    "executionInfo": {
     "elapsed": 37,
     "status": "ok",
     "timestamp": 1623690963267,
     "user": {
      "displayName": "Sawal Malhotra",
      "photoUrl": "",
      "userId": "07925511662157739222"
     },
     "user_tz": -330
    },
    "id": "K5w89vrh_CFj"
   },
   "outputs": [],
   "source": [
    "# Objective function\n",
    "# To Mininmize cost\n",
    "def objective_rule(model):\n",
    "  return sum(model.x[i,j]*model.s[i,j] for i in model.i for j in model.j) + sum(model.y[i,j]*model.oc[i,j] for i in  model.i for j in model.j)\n",
    "\n",
    "model.objective=Objective(rule=objective_rule, sense=minimize,doc='Define Objective Function')"
   ]
  },
  {
   "cell_type": "code",
   "execution_count": 590,
   "metadata": {
    "colab": {
     "base_uri": "https://localhost:8080/"
    },
    "collapsed": true,
    "executionInfo": {
     "elapsed": 36,
     "status": "ok",
     "timestamp": 1623690963267,
     "user": {
      "displayName": "Sawal Malhotra",
      "photoUrl": "",
      "userId": "07925511662157739222"
     },
     "user_tz": -330
    },
    "id": "GHVOsmRk_CFj",
    "outputId": "0681dc79-c4fc-4ea5-cea2-bbc3a175ccc5"
   },
   "outputs": [
    {
     "name": "stdout",
     "output_type": "stream",
     "text": [
      "# ==========================================================\n",
      "# = Solver Results                                         =\n",
      "# ==========================================================\n",
      "# ----------------------------------------------------------\n",
      "#   Problem Information\n",
      "# ----------------------------------------------------------\n",
      "Problem: \n",
      "- Name: unknown\n",
      "  Lower bound: 16527521.3522214\n",
      "  Upper bound: 16527521.3522214\n",
      "  Number of objectives: 1\n",
      "  Number of constraints: 61\n",
      "  Number of variables: 73\n",
      "  Number of nonzeros: 97\n",
      "  Sense: minimize\n",
      "# ----------------------------------------------------------\n",
      "#   Solver Information\n",
      "# ----------------------------------------------------------\n",
      "Solver: \n",
      "- Status: ok\n",
      "  Termination condition: optimal\n",
      "  Statistics: \n",
      "    Branch and bound: \n",
      "      Number of bounded subproblems: 0\n",
      "      Number of created subproblems: 0\n",
      "  Error rc: 0\n",
      "  Time: 0.012503385543823242\n",
      "# ----------------------------------------------------------\n",
      "#   Solution Information\n",
      "# ----------------------------------------------------------\n",
      "Solution: \n",
      "- number of solutions: 0\n",
      "  number of solutions displayed: 0\n"
     ]
    }
   ],
   "source": [
    "# Invoking the solver\n",
    "result_cost=SolverFactory('glpk').solve(model)\n",
    "result_cost.write()"
   ]
  },
  {
   "cell_type": "code",
   "execution_count": 591,
   "metadata": {
    "colab": {
     "base_uri": "https://localhost:8080/"
    },
    "collapsed": true,
    "executionInfo": {
     "elapsed": 34,
     "status": "ok",
     "timestamp": 1623690963267,
     "user": {
      "displayName": "Sawal Malhotra",
      "photoUrl": "",
      "userId": "07925511662157739222"
     },
     "user_tz": -330
    },
    "id": "l03uUtNY_CFk",
    "outputId": "bb12ba73-4b8e-4596-8388-edfab4329876"
   },
   "outputs": [
    {
     "data": {
      "text/plain": [
       "16527521.352221444"
      ]
     },
     "execution_count": 591,
     "metadata": {
      "tags": []
     },
     "output_type": "execute_result"
    }
   ],
   "source": [
    "# Print the value of the objective function\n",
    "TotalCost_UB=model.objective.expr()\n",
    "TotalCost_UB\n"
   ]
  },
  {
   "cell_type": "markdown",
   "metadata": {
    "id": "n16goAO6_CFk"
   },
   "source": [
    "**`Checkpoint 3:`** The company has to spend around 16.5 m$ in total for the application approval process if the staffs are working with the maximum availability."
   ]
  },
  {
   "cell_type": "code",
   "execution_count": 592,
   "metadata": {
    "collapsed": true,
    "executionInfo": {
     "elapsed": 32,
     "status": "ok",
     "timestamp": 1623690963268,
     "user": {
      "displayName": "Sawal Malhotra",
      "photoUrl": "",
      "userId": "07925511662157739222"
     },
     "user_tz": -330
    },
    "id": "w5c4xrsM_CFk"
   },
   "outputs": [],
   "source": [
    "#Calculating the Result in Column format\n",
    "output=[]\n",
    "\n",
    "for i in model.i:\n",
    "  for j in model.j:\n",
    "    No_Of_FTE=model.x[i,j].value\n",
    "    No_of_OutsorcedApps=model.y[i,j].value\n",
    "    Demand=model.d[i,j]\n",
    "    UB=model.ub[i,j]\n",
    "    output.append([i,j,Demand,UB,No_Of_FTE,No_of_OutsorcedApps,Demand])"
   ]
  },
  {
   "cell_type": "code",
   "execution_count": 593,
   "metadata": {
    "colab": {
     "base_uri": "https://localhost:8080/",
     "height": 1000
    },
    "collapsed": true,
    "executionInfo": {
     "elapsed": 32,
     "status": "ok",
     "timestamp": 1623690963268,
     "user": {
      "displayName": "Sawal Malhotra",
      "photoUrl": "",
      "userId": "07925511662157739222"
     },
     "user_tz": -330
    },
    "id": "q0vAcY-yFe8Z",
    "outputId": "c96964a0-b068-4d46-b1ad-aa4969096fc3"
   },
   "outputs": [
    {
     "data": {
      "text/html": [
       "<div>\n",
       "<style scoped>\n",
       "    .dataframe tbody tr th:only-of-type {\n",
       "        vertical-align: middle;\n",
       "    }\n",
       "\n",
       "    .dataframe tbody tr th {\n",
       "        vertical-align: top;\n",
       "    }\n",
       "\n",
       "    .dataframe thead th {\n",
       "        text-align: right;\n",
       "    }\n",
       "</style>\n",
       "<table border=\"1\" class=\"dataframe\">\n",
       "  <thead>\n",
       "    <tr style=\"text-align: right;\">\n",
       "      <th></th>\n",
       "      <th>State</th>\n",
       "      <th>Month</th>\n",
       "      <th>Demand</th>\n",
       "      <th>UB</th>\n",
       "      <th>FTE</th>\n",
       "      <th>Apps_Outsorced</th>\n",
       "      <th>FTE_APP_Served</th>\n",
       "    </tr>\n",
       "  </thead>\n",
       "  <tbody>\n",
       "    <tr>\n",
       "      <th>0</th>\n",
       "      <td>A</td>\n",
       "      <td>Jan</td>\n",
       "      <td>5240</td>\n",
       "      <td>0.90</td>\n",
       "      <td>145.555556</td>\n",
       "      <td>0.0</td>\n",
       "      <td>5240</td>\n",
       "    </tr>\n",
       "    <tr>\n",
       "      <th>1</th>\n",
       "      <td>A</td>\n",
       "      <td>Feb</td>\n",
       "      <td>4878</td>\n",
       "      <td>0.85</td>\n",
       "      <td>143.470588</td>\n",
       "      <td>0.0</td>\n",
       "      <td>4878</td>\n",
       "    </tr>\n",
       "    <tr>\n",
       "      <th>2</th>\n",
       "      <td>A</td>\n",
       "      <td>Mar</td>\n",
       "      <td>5942</td>\n",
       "      <td>0.80</td>\n",
       "      <td>185.687500</td>\n",
       "      <td>0.0</td>\n",
       "      <td>5942</td>\n",
       "    </tr>\n",
       "    <tr>\n",
       "      <th>3</th>\n",
       "      <td>A</td>\n",
       "      <td>Apr</td>\n",
       "      <td>2297</td>\n",
       "      <td>0.85</td>\n",
       "      <td>67.558824</td>\n",
       "      <td>0.0</td>\n",
       "      <td>2297</td>\n",
       "    </tr>\n",
       "    <tr>\n",
       "      <th>4</th>\n",
       "      <td>A</td>\n",
       "      <td>May</td>\n",
       "      <td>1992</td>\n",
       "      <td>0.85</td>\n",
       "      <td>58.588235</td>\n",
       "      <td>0.0</td>\n",
       "      <td>1992</td>\n",
       "    </tr>\n",
       "    <tr>\n",
       "      <th>5</th>\n",
       "      <td>A</td>\n",
       "      <td>Jun</td>\n",
       "      <td>2275</td>\n",
       "      <td>0.80</td>\n",
       "      <td>71.093750</td>\n",
       "      <td>0.0</td>\n",
       "      <td>2275</td>\n",
       "    </tr>\n",
       "    <tr>\n",
       "      <th>6</th>\n",
       "      <td>A</td>\n",
       "      <td>Jul</td>\n",
       "      <td>5334</td>\n",
       "      <td>0.75</td>\n",
       "      <td>177.800000</td>\n",
       "      <td>0.0</td>\n",
       "      <td>5334</td>\n",
       "    </tr>\n",
       "    <tr>\n",
       "      <th>7</th>\n",
       "      <td>A</td>\n",
       "      <td>Aug</td>\n",
       "      <td>3371</td>\n",
       "      <td>0.85</td>\n",
       "      <td>99.147059</td>\n",
       "      <td>0.0</td>\n",
       "      <td>3371</td>\n",
       "    </tr>\n",
       "    <tr>\n",
       "      <th>8</th>\n",
       "      <td>A</td>\n",
       "      <td>Sep</td>\n",
       "      <td>3759</td>\n",
       "      <td>0.90</td>\n",
       "      <td>104.416667</td>\n",
       "      <td>0.0</td>\n",
       "      <td>3759</td>\n",
       "    </tr>\n",
       "    <tr>\n",
       "      <th>9</th>\n",
       "      <td>A</td>\n",
       "      <td>Oct</td>\n",
       "      <td>3529</td>\n",
       "      <td>0.80</td>\n",
       "      <td>110.281250</td>\n",
       "      <td>0.0</td>\n",
       "      <td>3529</td>\n",
       "    </tr>\n",
       "    <tr>\n",
       "      <th>10</th>\n",
       "      <td>A</td>\n",
       "      <td>Nov</td>\n",
       "      <td>4284</td>\n",
       "      <td>0.75</td>\n",
       "      <td>142.800000</td>\n",
       "      <td>0.0</td>\n",
       "      <td>4284</td>\n",
       "    </tr>\n",
       "    <tr>\n",
       "      <th>11</th>\n",
       "      <td>A</td>\n",
       "      <td>Dec</td>\n",
       "      <td>5183</td>\n",
       "      <td>0.70</td>\n",
       "      <td>185.107143</td>\n",
       "      <td>0.0</td>\n",
       "      <td>5183</td>\n",
       "    </tr>\n",
       "    <tr>\n",
       "      <th>12</th>\n",
       "      <td>B</td>\n",
       "      <td>Jan</td>\n",
       "      <td>4927</td>\n",
       "      <td>0.90</td>\n",
       "      <td>136.861111</td>\n",
       "      <td>0.0</td>\n",
       "      <td>4927</td>\n",
       "    </tr>\n",
       "    <tr>\n",
       "      <th>13</th>\n",
       "      <td>B</td>\n",
       "      <td>Feb</td>\n",
       "      <td>2628</td>\n",
       "      <td>0.85</td>\n",
       "      <td>77.294118</td>\n",
       "      <td>0.0</td>\n",
       "      <td>2628</td>\n",
       "    </tr>\n",
       "    <tr>\n",
       "      <th>14</th>\n",
       "      <td>B</td>\n",
       "      <td>Mar</td>\n",
       "      <td>2974</td>\n",
       "      <td>0.80</td>\n",
       "      <td>92.937500</td>\n",
       "      <td>0.0</td>\n",
       "      <td>2974</td>\n",
       "    </tr>\n",
       "    <tr>\n",
       "      <th>15</th>\n",
       "      <td>B</td>\n",
       "      <td>Apr</td>\n",
       "      <td>2338</td>\n",
       "      <td>0.85</td>\n",
       "      <td>68.764706</td>\n",
       "      <td>0.0</td>\n",
       "      <td>2338</td>\n",
       "    </tr>\n",
       "    <tr>\n",
       "      <th>16</th>\n",
       "      <td>B</td>\n",
       "      <td>May</td>\n",
       "      <td>4020</td>\n",
       "      <td>0.85</td>\n",
       "      <td>118.235294</td>\n",
       "      <td>0.0</td>\n",
       "      <td>4020</td>\n",
       "    </tr>\n",
       "    <tr>\n",
       "      <th>17</th>\n",
       "      <td>B</td>\n",
       "      <td>Jun</td>\n",
       "      <td>3147</td>\n",
       "      <td>0.80</td>\n",
       "      <td>98.343750</td>\n",
       "      <td>0.0</td>\n",
       "      <td>3147</td>\n",
       "    </tr>\n",
       "    <tr>\n",
       "      <th>18</th>\n",
       "      <td>B</td>\n",
       "      <td>Jul</td>\n",
       "      <td>4271</td>\n",
       "      <td>0.75</td>\n",
       "      <td>85.420000</td>\n",
       "      <td>1708.4</td>\n",
       "      <td>4271</td>\n",
       "    </tr>\n",
       "    <tr>\n",
       "      <th>19</th>\n",
       "      <td>B</td>\n",
       "      <td>Aug</td>\n",
       "      <td>2620</td>\n",
       "      <td>0.85</td>\n",
       "      <td>77.058824</td>\n",
       "      <td>0.0</td>\n",
       "      <td>2620</td>\n",
       "    </tr>\n",
       "    <tr>\n",
       "      <th>20</th>\n",
       "      <td>B</td>\n",
       "      <td>Sep</td>\n",
       "      <td>4517</td>\n",
       "      <td>0.90</td>\n",
       "      <td>125.472222</td>\n",
       "      <td>0.0</td>\n",
       "      <td>4517</td>\n",
       "    </tr>\n",
       "    <tr>\n",
       "      <th>21</th>\n",
       "      <td>B</td>\n",
       "      <td>Oct</td>\n",
       "      <td>4155</td>\n",
       "      <td>0.80</td>\n",
       "      <td>129.843750</td>\n",
       "      <td>0.0</td>\n",
       "      <td>4155</td>\n",
       "    </tr>\n",
       "    <tr>\n",
       "      <th>22</th>\n",
       "      <td>B</td>\n",
       "      <td>Nov</td>\n",
       "      <td>3137</td>\n",
       "      <td>0.75</td>\n",
       "      <td>62.740000</td>\n",
       "      <td>1254.8</td>\n",
       "      <td>3137</td>\n",
       "    </tr>\n",
       "    <tr>\n",
       "      <th>23</th>\n",
       "      <td>B</td>\n",
       "      <td>Dec</td>\n",
       "      <td>4227</td>\n",
       "      <td>0.70</td>\n",
       "      <td>90.578571</td>\n",
       "      <td>1690.8</td>\n",
       "      <td>4227</td>\n",
       "    </tr>\n",
       "    <tr>\n",
       "      <th>24</th>\n",
       "      <td>C</td>\n",
       "      <td>Jan</td>\n",
       "      <td>1162</td>\n",
       "      <td>0.90</td>\n",
       "      <td>32.277778</td>\n",
       "      <td>0.0</td>\n",
       "      <td>1162</td>\n",
       "    </tr>\n",
       "    <tr>\n",
       "      <th>25</th>\n",
       "      <td>C</td>\n",
       "      <td>Feb</td>\n",
       "      <td>1967</td>\n",
       "      <td>0.85</td>\n",
       "      <td>57.852941</td>\n",
       "      <td>0.0</td>\n",
       "      <td>1967</td>\n",
       "    </tr>\n",
       "    <tr>\n",
       "      <th>26</th>\n",
       "      <td>C</td>\n",
       "      <td>Mar</td>\n",
       "      <td>1898</td>\n",
       "      <td>0.80</td>\n",
       "      <td>59.312500</td>\n",
       "      <td>0.0</td>\n",
       "      <td>1898</td>\n",
       "    </tr>\n",
       "    <tr>\n",
       "      <th>27</th>\n",
       "      <td>C</td>\n",
       "      <td>Apr</td>\n",
       "      <td>2261</td>\n",
       "      <td>0.85</td>\n",
       "      <td>66.500000</td>\n",
       "      <td>0.0</td>\n",
       "      <td>2261</td>\n",
       "    </tr>\n",
       "    <tr>\n",
       "      <th>28</th>\n",
       "      <td>C</td>\n",
       "      <td>May</td>\n",
       "      <td>2030</td>\n",
       "      <td>0.85</td>\n",
       "      <td>59.705882</td>\n",
       "      <td>0.0</td>\n",
       "      <td>2030</td>\n",
       "    </tr>\n",
       "    <tr>\n",
       "      <th>29</th>\n",
       "      <td>C</td>\n",
       "      <td>Jun</td>\n",
       "      <td>1642</td>\n",
       "      <td>0.80</td>\n",
       "      <td>51.312500</td>\n",
       "      <td>0.0</td>\n",
       "      <td>1642</td>\n",
       "    </tr>\n",
       "    <tr>\n",
       "      <th>30</th>\n",
       "      <td>C</td>\n",
       "      <td>Jul</td>\n",
       "      <td>2489</td>\n",
       "      <td>0.75</td>\n",
       "      <td>82.966667</td>\n",
       "      <td>0.0</td>\n",
       "      <td>2489</td>\n",
       "    </tr>\n",
       "    <tr>\n",
       "      <th>31</th>\n",
       "      <td>C</td>\n",
       "      <td>Aug</td>\n",
       "      <td>2496</td>\n",
       "      <td>0.85</td>\n",
       "      <td>73.411765</td>\n",
       "      <td>0.0</td>\n",
       "      <td>2496</td>\n",
       "    </tr>\n",
       "    <tr>\n",
       "      <th>32</th>\n",
       "      <td>C</td>\n",
       "      <td>Sep</td>\n",
       "      <td>922</td>\n",
       "      <td>0.90</td>\n",
       "      <td>25.611111</td>\n",
       "      <td>0.0</td>\n",
       "      <td>922</td>\n",
       "    </tr>\n",
       "    <tr>\n",
       "      <th>33</th>\n",
       "      <td>C</td>\n",
       "      <td>Oct</td>\n",
       "      <td>2421</td>\n",
       "      <td>0.80</td>\n",
       "      <td>75.656250</td>\n",
       "      <td>0.0</td>\n",
       "      <td>2421</td>\n",
       "    </tr>\n",
       "    <tr>\n",
       "      <th>34</th>\n",
       "      <td>C</td>\n",
       "      <td>Nov</td>\n",
       "      <td>963</td>\n",
       "      <td>0.75</td>\n",
       "      <td>32.100000</td>\n",
       "      <td>0.0</td>\n",
       "      <td>963</td>\n",
       "    </tr>\n",
       "    <tr>\n",
       "      <th>35</th>\n",
       "      <td>C</td>\n",
       "      <td>Dec</td>\n",
       "      <td>1998</td>\n",
       "      <td>0.70</td>\n",
       "      <td>71.357143</td>\n",
       "      <td>0.0</td>\n",
       "      <td>1998</td>\n",
       "    </tr>\n",
       "  </tbody>\n",
       "</table>\n",
       "</div>"
      ],
      "text/plain": [
       "   State Month  Demand    UB         FTE  Apps_Outsorced  FTE_APP_Served\n",
       "0      A   Jan    5240  0.90  145.555556             0.0            5240\n",
       "1      A   Feb    4878  0.85  143.470588             0.0            4878\n",
       "2      A   Mar    5942  0.80  185.687500             0.0            5942\n",
       "3      A   Apr    2297  0.85   67.558824             0.0            2297\n",
       "4      A   May    1992  0.85   58.588235             0.0            1992\n",
       "5      A   Jun    2275  0.80   71.093750             0.0            2275\n",
       "6      A   Jul    5334  0.75  177.800000             0.0            5334\n",
       "7      A   Aug    3371  0.85   99.147059             0.0            3371\n",
       "8      A   Sep    3759  0.90  104.416667             0.0            3759\n",
       "9      A   Oct    3529  0.80  110.281250             0.0            3529\n",
       "10     A   Nov    4284  0.75  142.800000             0.0            4284\n",
       "11     A   Dec    5183  0.70  185.107143             0.0            5183\n",
       "12     B   Jan    4927  0.90  136.861111             0.0            4927\n",
       "13     B   Feb    2628  0.85   77.294118             0.0            2628\n",
       "14     B   Mar    2974  0.80   92.937500             0.0            2974\n",
       "15     B   Apr    2338  0.85   68.764706             0.0            2338\n",
       "16     B   May    4020  0.85  118.235294             0.0            4020\n",
       "17     B   Jun    3147  0.80   98.343750             0.0            3147\n",
       "18     B   Jul    4271  0.75   85.420000          1708.4            4271\n",
       "19     B   Aug    2620  0.85   77.058824             0.0            2620\n",
       "20     B   Sep    4517  0.90  125.472222             0.0            4517\n",
       "21     B   Oct    4155  0.80  129.843750             0.0            4155\n",
       "22     B   Nov    3137  0.75   62.740000          1254.8            3137\n",
       "23     B   Dec    4227  0.70   90.578571          1690.8            4227\n",
       "24     C   Jan    1162  0.90   32.277778             0.0            1162\n",
       "25     C   Feb    1967  0.85   57.852941             0.0            1967\n",
       "26     C   Mar    1898  0.80   59.312500             0.0            1898\n",
       "27     C   Apr    2261  0.85   66.500000             0.0            2261\n",
       "28     C   May    2030  0.85   59.705882             0.0            2030\n",
       "29     C   Jun    1642  0.80   51.312500             0.0            1642\n",
       "30     C   Jul    2489  0.75   82.966667             0.0            2489\n",
       "31     C   Aug    2496  0.85   73.411765             0.0            2496\n",
       "32     C   Sep     922  0.90   25.611111             0.0             922\n",
       "33     C   Oct    2421  0.80   75.656250             0.0            2421\n",
       "34     C   Nov     963  0.75   32.100000             0.0             963\n",
       "35     C   Dec    1998  0.70   71.357143             0.0            1998"
      ]
     },
     "execution_count": 593,
     "metadata": {
      "tags": []
     },
     "output_type": "execute_result"
    }
   ],
   "source": [
    "# Creating dataframe for the results\n",
    "df_result=pd.DataFrame(output,columns=['State','Month','Demand','UB','FTE','Apps_Outsorced','FTE_APP_Served'])\n",
    "df_result\n"
   ]
  },
  {
   "cell_type": "code",
   "execution_count": 594,
   "metadata": {
    "collapsed": true,
    "executionInfo": {
     "elapsed": 31,
     "status": "ok",
     "timestamp": 1623690963268,
     "user": {
      "displayName": "Sawal Malhotra",
      "photoUrl": "",
      "userId": "07925511662157739222"
     },
     "user_tz": -330
    },
    "id": "Sh-NuVPOY4Hg"
   },
   "outputs": [],
   "source": [
    "# Writing the results in to an Excel sheet\n",
    "\n",
    "df_result.to_excel('Result_4.xlsx',sheet_name='Result',index=False)"
   ]
  },
  {
   "cell_type": "markdown",
   "metadata": {
    "id": "8-RV9IHd_CFk"
   },
   "source": [
    "#### 3.2.2 Percentage of outsourced applications"
   ]
  },
  {
   "cell_type": "code",
   "execution_count": 595,
   "metadata": {
    "colab": {
     "base_uri": "https://localhost:8080/"
    },
    "collapsed": true,
    "executionInfo": {
     "elapsed": 31,
     "status": "ok",
     "timestamp": 1623690963269,
     "user": {
      "displayName": "Sawal Malhotra",
      "photoUrl": "",
      "userId": "07925511662157739222"
     },
     "user_tz": -330
    },
    "id": "paH3GlAg_CFk",
    "outputId": "dc90b298-abed-454d-bbe0-ee34b5678237"
   },
   "outputs": [
    {
     "name": "stdout",
     "output_type": "stream",
     "text": [
      "4654.0\n"
     ]
    }
   ],
   "source": [
    "#Total Outsorced applications- Actual\n",
    "s=0\n",
    "for i in model.i:\n",
    "  for j in model.j:\n",
    "    s=s+model.y[i,j].value\n",
    "print(s)\n"
   ]
  },
  {
   "cell_type": "code",
   "execution_count": 596,
   "metadata": {
    "colab": {
     "base_uri": "https://localhost:8080/"
    },
    "collapsed": true,
    "executionInfo": {
     "elapsed": 28,
     "status": "ok",
     "timestamp": 1623690963269,
     "user": {
      "displayName": "Sawal Malhotra",
      "photoUrl": "",
      "userId": "07925511662157739222"
     },
     "user_tz": -330
    },
    "id": "27nfpyacxYGY",
    "outputId": "fd4dd4cd-77b0-4a3d-fe55-8596668592c9"
   },
   "outputs": [
    {
     "name": "stdout",
     "output_type": "stream",
     "text": [
      "4.1078962698819\n"
     ]
    }
   ],
   "source": [
    "#Total no of applications demand\n",
    "TotalApplDemand=MgDemandDist['Demand'].sum()\n",
    "\n",
    "#Percentage of Outsorced applications\n",
    "PercentageOutSourced=(s/TotalApplDemand)*100\n",
    "print(PercentageOutSourced)"
   ]
  },
  {
   "cell_type": "markdown",
   "metadata": {
    "id": "MLPLW-6K_CFk"
   },
   "source": [
    "#### 3.2.3 Average cost per application"
   ]
  },
  {
   "cell_type": "code",
   "execution_count": 597,
   "metadata": {
    "colab": {
     "base_uri": "https://localhost:8080/"
    },
    "collapsed": true,
    "executionInfo": {
     "elapsed": 26,
     "status": "ok",
     "timestamp": 1623690963270,
     "user": {
      "displayName": "Sawal Malhotra",
      "photoUrl": "",
      "userId": "07925511662157739222"
     },
     "user_tz": -330
    },
    "id": "S2NTnvps_CFl",
    "outputId": "7d0ed341-ccaf-4984-9d80-41bd6bd92c2d"
   },
   "outputs": [
    {
     "name": "stdout",
     "output_type": "stream",
     "text": [
      "Averge cost per Application in Case of Maximum(UB) Staff availability is : 145.88170028617088\n"
     ]
    }
   ],
   "source": [
    "print('Averge cost per Application in Case of Maximum(UB) Staff availability is :',TotalCost_UB/TotalApplDemand)"
   ]
  },
  {
   "cell_type": "markdown",
   "metadata": {
    "id": "uZZMwQ0Y_CFl"
   },
   "source": [
    "# Question 4\n",
    "\n",
    "#### Creating Visualisations"
   ]
  },
  {
   "cell_type": "markdown",
   "metadata": {
    "id": "-26C-ePp_CFl"
   },
   "source": [
    "Create the following visualisations using your preferred method (i.e. Python, PowerPoint, Power BI, etc.) and add it to your report. \n",
    "\n",
    "Use the solution of Q2 to create a stacked column chart that shows the percentage of applications processed by the staff and by the vendor for each month (%staff processed applications+ %vendor processed applications should add up to 100%). \n",
    "Create a graph to show how the cost per application increases with respect to any change in the parameters in your analysis.\n",
    "Hint: Use the cost per application that you calculate in Questions 2 and 3 (i.e., the best case, and the worst case). "
   ]
  },
  {
   "cell_type": "markdown",
   "metadata": {
    "id": "Cr3mhHSw_CFl"
   },
   "source": [
    "**Note:** You can create the charts in Python or some other visualisation tools and make it a part of your final report directly."
   ]
  },
  {
   "cell_type": "code",
   "execution_count": 598,
   "metadata": {
    "collapsed": true,
    "executionInfo": {
     "elapsed": 23,
     "status": "ok",
     "timestamp": 1623690963270,
     "user": {
      "displayName": "Sawal Malhotra",
      "photoUrl": "",
      "userId": "07925511662157739222"
     },
     "user_tz": -330
    },
    "id": "J9t3FURh_CFl"
   },
   "outputs": [],
   "source": [
    "#Answered with Visualization have been mentioned in Report"
   ]
  },
  {
   "cell_type": "code",
   "execution_count": 598,
   "metadata": {
    "collapsed": true,
    "executionInfo": {
     "elapsed": 23,
     "status": "ok",
     "timestamp": 1623690963270,
     "user": {
      "displayName": "Sawal Malhotra",
      "photoUrl": "",
      "userId": "07925511662157739222"
     },
     "user_tz": -330
    },
    "id": "08voyimLHufo"
   },
   "outputs": [],
   "source": []
  }
 ],
 "metadata": {
  "celltoolbar": "Raw Cell Format",
  "colab": {
   "collapsed_sections": [],
   "name": "staff_planning_stub.ipynb",
   "provenance": []
  },
  "kernelspec": {
   "display_name": "Python 3",
   "language": "python",
   "name": "python3"
  },
  "language_info": {
   "codemirror_mode": {
    "name": "ipython",
    "version": 3
   },
   "file_extension": ".py",
   "mimetype": "text/x-python",
   "name": "python",
   "nbconvert_exporter": "python",
   "pygments_lexer": "ipython3",
   "version": "3.8.3"
  }
 },
 "nbformat": 4,
 "nbformat_minor": 1
}
